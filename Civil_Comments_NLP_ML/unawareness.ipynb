{
  "cells": [
    {
      "cell_type": "code",
      "execution_count": null,
      "metadata": {
        "colab": {
          "base_uri": "https://localhost:8080/"
        },
        "id": "VL8hU-IbGdiR",
        "outputId": "15d68e6d-7776-4f6a-af21-d7262ab31180"
      },
      "outputs": [
        {
          "output_type": "stream",
          "name": "stdout",
          "text": [
            "Looking in indexes: https://pypi.org/simple, https://us-python.pkg.dev/colab-wheels/public/simple/\n",
            "Requirement already satisfied: wilds in /usr/local/lib/python3.10/dist-packages (2.0.0)\n",
            "Requirement already satisfied: numpy>=1.19.1 in /usr/local/lib/python3.10/dist-packages (from wilds) (1.22.4)\n",
            "Requirement already satisfied: ogb>=1.2.6 in /usr/local/lib/python3.10/dist-packages (from wilds) (1.3.6)\n",
            "Requirement already satisfied: outdated>=0.2.0 in /usr/local/lib/python3.10/dist-packages (from wilds) (0.2.2)\n",
            "Requirement already satisfied: pandas>=1.1.0 in /usr/local/lib/python3.10/dist-packages (from wilds) (1.5.3)\n",
            "Requirement already satisfied: pillow>=7.2.0 in /usr/local/lib/python3.10/dist-packages (from wilds) (8.4.0)\n",
            "Requirement already satisfied: pytz>=2020.4 in /usr/local/lib/python3.10/dist-packages (from wilds) (2022.7.1)\n",
            "Requirement already satisfied: torch>=1.7.0 in /usr/local/lib/python3.10/dist-packages (from wilds) (2.0.1+cu118)\n",
            "Requirement already satisfied: torchvision>=0.8.2 in /usr/local/lib/python3.10/dist-packages (from wilds) (0.15.2+cu118)\n",
            "Requirement already satisfied: tqdm>=4.53.0 in /usr/local/lib/python3.10/dist-packages (from wilds) (4.65.0)\n",
            "Requirement already satisfied: scikit-learn>=0.20.0 in /usr/local/lib/python3.10/dist-packages (from wilds) (1.2.2)\n",
            "Requirement already satisfied: scipy>=1.5.4 in /usr/local/lib/python3.10/dist-packages (from wilds) (1.10.1)\n",
            "Requirement already satisfied: six>=1.12.0 in /usr/local/lib/python3.10/dist-packages (from ogb>=1.2.6->wilds) (1.16.0)\n",
            "Requirement already satisfied: urllib3>=1.24.0 in /usr/local/lib/python3.10/dist-packages (from ogb>=1.2.6->wilds) (1.26.15)\n",
            "Requirement already satisfied: setuptools>=44 in /usr/local/lib/python3.10/dist-packages (from outdated>=0.2.0->wilds) (67.7.2)\n",
            "Requirement already satisfied: littleutils in /usr/local/lib/python3.10/dist-packages (from outdated>=0.2.0->wilds) (0.2.2)\n",
            "Requirement already satisfied: requests in /usr/local/lib/python3.10/dist-packages (from outdated>=0.2.0->wilds) (2.27.1)\n",
            "Requirement already satisfied: python-dateutil>=2.8.1 in /usr/local/lib/python3.10/dist-packages (from pandas>=1.1.0->wilds) (2.8.2)\n",
            "Requirement already satisfied: joblib>=1.1.1 in /usr/local/lib/python3.10/dist-packages (from scikit-learn>=0.20.0->wilds) (1.2.0)\n",
            "Requirement already satisfied: threadpoolctl>=2.0.0 in /usr/local/lib/python3.10/dist-packages (from scikit-learn>=0.20.0->wilds) (3.1.0)\n",
            "Requirement already satisfied: filelock in /usr/local/lib/python3.10/dist-packages (from torch>=1.7.0->wilds) (3.12.0)\n",
            "Requirement already satisfied: typing-extensions in /usr/local/lib/python3.10/dist-packages (from torch>=1.7.0->wilds) (4.5.0)\n",
            "Requirement already satisfied: sympy in /usr/local/lib/python3.10/dist-packages (from torch>=1.7.0->wilds) (1.11.1)\n",
            "Requirement already satisfied: networkx in /usr/local/lib/python3.10/dist-packages (from torch>=1.7.0->wilds) (3.1)\n",
            "Requirement already satisfied: jinja2 in /usr/local/lib/python3.10/dist-packages (from torch>=1.7.0->wilds) (3.1.2)\n",
            "Requirement already satisfied: triton==2.0.0 in /usr/local/lib/python3.10/dist-packages (from torch>=1.7.0->wilds) (2.0.0)\n",
            "Requirement already satisfied: cmake in /usr/local/lib/python3.10/dist-packages (from triton==2.0.0->torch>=1.7.0->wilds) (3.25.2)\n",
            "Requirement already satisfied: lit in /usr/local/lib/python3.10/dist-packages (from triton==2.0.0->torch>=1.7.0->wilds) (16.0.5)\n",
            "Requirement already satisfied: MarkupSafe>=2.0 in /usr/local/lib/python3.10/dist-packages (from jinja2->torch>=1.7.0->wilds) (2.1.2)\n",
            "Requirement already satisfied: certifi>=2017.4.17 in /usr/local/lib/python3.10/dist-packages (from requests->outdated>=0.2.0->wilds) (2022.12.7)\n",
            "Requirement already satisfied: charset-normalizer~=2.0.0 in /usr/local/lib/python3.10/dist-packages (from requests->outdated>=0.2.0->wilds) (2.0.12)\n",
            "Requirement already satisfied: idna<4,>=2.5 in /usr/local/lib/python3.10/dist-packages (from requests->outdated>=0.2.0->wilds) (3.4)\n",
            "Requirement already satisfied: mpmath>=0.19 in /usr/local/lib/python3.10/dist-packages (from sympy->torch>=1.7.0->wilds) (1.3.0)\n"
          ]
        }
      ],
      "source": [
        "pip install wilds"
      ]
    },
    {
      "cell_type": "code",
      "source": [
        "import torch\n",
        "\n",
        "!pip uninstall torch-scatter torch-sparse torch-geometric torch-cluster  --y\n",
        "!pip install torch-scatter -f https://data.pyg.org/whl/torch-{torch.__version__}.html\n",
        "!pip install torch-sparse -f https://data.pyg.org/whl/torch-{torch.__version__}.html\n",
        "!pip install torch-cluster -f https://data.pyg.org/whl/torch-{torch.__version__}.html\n",
        "!pip install git+https://github.com/pyg-team/pytorch_geometric.git\n"
      ],
      "metadata": {
        "colab": {
          "base_uri": "https://localhost:8080/",
          "height": 1000
        },
        "id": "AaHBr5KWf3Br",
        "outputId": "c3ec9e5a-d128-46e4-9e78-f1afa8fe0216"
      },
      "execution_count": null,
      "outputs": [
        {
          "output_type": "stream",
          "name": "stdout",
          "text": [
            "Found existing installation: torch-scatter 2.1.1+pt20cu118\n",
            "Uninstalling torch-scatter-2.1.1+pt20cu118:\n",
            "  Successfully uninstalled torch-scatter-2.1.1+pt20cu118\n",
            "Found existing installation: torch-sparse 0.6.17+pt20cu118\n",
            "Uninstalling torch-sparse-0.6.17+pt20cu118:\n",
            "  Successfully uninstalled torch-sparse-0.6.17+pt20cu118\n",
            "Found existing installation: torch_geometric 2.4.0\n",
            "Uninstalling torch_geometric-2.4.0:\n",
            "  Successfully uninstalled torch_geometric-2.4.0\n",
            "Found existing installation: torch-cluster 1.6.1+pt20cu118\n",
            "Uninstalling torch-cluster-1.6.1+pt20cu118:\n",
            "  Successfully uninstalled torch-cluster-1.6.1+pt20cu118\n",
            "Looking in indexes: https://pypi.org/simple, https://us-python.pkg.dev/colab-wheels/public/simple/\n",
            "Looking in links: https://data.pyg.org/whl/torch-2.0.1+cu118.html\n",
            "Collecting torch-scatter\n",
            "  Using cached https://data.pyg.org/whl/torch-2.0.0%2Bcu118/torch_scatter-2.1.1%2Bpt20cu118-cp310-cp310-linux_x86_64.whl (10.2 MB)\n",
            "Installing collected packages: torch-scatter\n",
            "Successfully installed torch-scatter-2.1.1+pt20cu118\n"
          ]
        },
        {
          "output_type": "display_data",
          "data": {
            "application/vnd.colab-display-data+json": {
              "pip_warning": {
                "packages": [
                  "torch_scatter"
                ]
              }
            }
          },
          "metadata": {}
        },
        {
          "output_type": "stream",
          "name": "stdout",
          "text": [
            "Looking in indexes: https://pypi.org/simple, https://us-python.pkg.dev/colab-wheels/public/simple/\n",
            "Looking in links: https://data.pyg.org/whl/torch-2.0.1+cu118.html\n",
            "Collecting torch-sparse\n",
            "  Using cached https://data.pyg.org/whl/torch-2.0.0%2Bcu118/torch_sparse-0.6.17%2Bpt20cu118-cp310-cp310-linux_x86_64.whl (4.8 MB)\n",
            "Requirement already satisfied: scipy in /usr/local/lib/python3.10/dist-packages (from torch-sparse) (1.10.1)\n",
            "Requirement already satisfied: numpy<1.27.0,>=1.19.5 in /usr/local/lib/python3.10/dist-packages (from scipy->torch-sparse) (1.22.4)\n",
            "Installing collected packages: torch-sparse\n",
            "Successfully installed torch-sparse-0.6.17+pt20cu118\n",
            "Looking in indexes: https://pypi.org/simple, https://us-python.pkg.dev/colab-wheels/public/simple/\n",
            "Looking in links: https://data.pyg.org/whl/torch-2.0.1+cu118.html\n",
            "Collecting torch-cluster\n",
            "  Using cached https://data.pyg.org/whl/torch-2.0.0%2Bcu118/torch_cluster-1.6.1%2Bpt20cu118-cp310-cp310-linux_x86_64.whl (3.3 MB)\n",
            "Requirement already satisfied: scipy in /usr/local/lib/python3.10/dist-packages (from torch-cluster) (1.10.1)\n",
            "Requirement already satisfied: numpy<1.27.0,>=1.19.5 in /usr/local/lib/python3.10/dist-packages (from scipy->torch-cluster) (1.22.4)\n",
            "Installing collected packages: torch-cluster\n",
            "Successfully installed torch-cluster-1.6.1+pt20cu118\n",
            "Looking in indexes: https://pypi.org/simple, https://us-python.pkg.dev/colab-wheels/public/simple/\n",
            "Collecting git+https://github.com/pyg-team/pytorch_geometric.git\n",
            "  Cloning https://github.com/pyg-team/pytorch_geometric.git to /tmp/pip-req-build-b52jfi_f\n",
            "  Running command git clone --filter=blob:none --quiet https://github.com/pyg-team/pytorch_geometric.git /tmp/pip-req-build-b52jfi_f\n",
            "  Resolved https://github.com/pyg-team/pytorch_geometric.git to commit 38da3c68f0be67feb6cc77584ee68bcd32059739\n",
            "  Installing build dependencies ... \u001b[?25l\u001b[?25hdone\n",
            "  Getting requirements to build wheel ... \u001b[?25l\u001b[?25hdone\n",
            "  Preparing metadata (pyproject.toml) ... \u001b[?25l\u001b[?25hdone\n",
            "Requirement already satisfied: tqdm in /usr/local/lib/python3.10/dist-packages (from torch_geometric==2.4.0) (4.65.0)\n",
            "Requirement already satisfied: numpy in /usr/local/lib/python3.10/dist-packages (from torch_geometric==2.4.0) (1.22.4)\n",
            "Requirement already satisfied: scipy in /usr/local/lib/python3.10/dist-packages (from torch_geometric==2.4.0) (1.10.1)\n",
            "Requirement already satisfied: jinja2 in /usr/local/lib/python3.10/dist-packages (from torch_geometric==2.4.0) (3.1.2)\n",
            "Requirement already satisfied: requests in /usr/local/lib/python3.10/dist-packages (from torch_geometric==2.4.0) (2.27.1)\n",
            "Requirement already satisfied: pyparsing in /usr/local/lib/python3.10/dist-packages (from torch_geometric==2.4.0) (3.0.9)\n",
            "Requirement already satisfied: scikit-learn in /usr/local/lib/python3.10/dist-packages (from torch_geometric==2.4.0) (1.2.2)\n",
            "Requirement already satisfied: psutil>=5.8.0 in /usr/local/lib/python3.10/dist-packages (from torch_geometric==2.4.0) (5.9.5)\n",
            "Requirement already satisfied: MarkupSafe>=2.0 in /usr/local/lib/python3.10/dist-packages (from jinja2->torch_geometric==2.4.0) (2.1.2)\n",
            "Requirement already satisfied: urllib3<1.27,>=1.21.1 in /usr/local/lib/python3.10/dist-packages (from requests->torch_geometric==2.4.0) (1.26.15)\n",
            "Requirement already satisfied: certifi>=2017.4.17 in /usr/local/lib/python3.10/dist-packages (from requests->torch_geometric==2.4.0) (2022.12.7)\n",
            "Requirement already satisfied: charset-normalizer~=2.0.0 in /usr/local/lib/python3.10/dist-packages (from requests->torch_geometric==2.4.0) (2.0.12)\n",
            "Requirement already satisfied: idna<4,>=2.5 in /usr/local/lib/python3.10/dist-packages (from requests->torch_geometric==2.4.0) (3.4)\n",
            "Requirement already satisfied: joblib>=1.1.1 in /usr/local/lib/python3.10/dist-packages (from scikit-learn->torch_geometric==2.4.0) (1.2.0)\n",
            "Requirement already satisfied: threadpoolctl>=2.0.0 in /usr/local/lib/python3.10/dist-packages (from scikit-learn->torch_geometric==2.4.0) (3.1.0)\n",
            "Building wheels for collected packages: torch_geometric\n",
            "  Building wheel for torch_geometric (pyproject.toml) ... \u001b[?25l\u001b[?25hdone\n",
            "  Created wheel for torch_geometric: filename=torch_geometric-2.4.0-py3-none-any.whl size=937978 sha256=03d62ef308b451d9385e48e361a9e084b36e9c7cd356ff98bf09a1d059757e7e\n",
            "  Stored in directory: /tmp/pip-ephem-wheel-cache-thu0h5sz/wheels/d3/78/eb/9e26525b948d19533f1688fb6c209cec8a0ba793d39b49ae8f\n",
            "Successfully built torch_geometric\n",
            "Installing collected packages: torch_geometric\n",
            "Successfully installed torch_geometric-2.4.0\n"
          ]
        }
      ]
    },
    {
      "cell_type": "code",
      "source": [
        "from torchtext.vocab import GloVe\n",
        "import torch\n",
        "import torchvision.transforms as transforms\n",
        "from torch.utils.data import DataLoader\n",
        "import torch.nn as nn\n",
        "from tqdm import tqdm\n",
        "import torch.optim as optim\n",
        "import torch.nn.functional as F\n",
        "from torch.utils.tensorboard import SummaryWriter\n",
        "import os\n",
        "import pandas as pd\n",
        "import numpy as np\n",
        "from torchtext.data import get_tokenizer\n",
        "from torchtext.vocab import GloVe\n",
        "import re\n",
        "from torch.utils.data import Dataset, DataLoader\n",
        "from torch.optim.lr_scheduler import ReduceLROnPlateau\n",
        "from wilds import get_dataset\n",
        "from wilds.common.data_loaders import get_train_loader\n",
        "import torchvision.transforms as transforms\n",
        "from wilds.common.grouper import CombinatorialGrouper\n",
        "from wilds.common.utils import split_into_groups\n",
        "from torch.autograd import grad\n",
        "\n",
        "class ToxicClassifier(nn.Module):\n",
        "    def __init__(self, vocab_size, embedding_dim, embeddings_vectors, hidden_dim = 32, output_dim = 1):\n",
        "        super(ToxicClassifier, self).__init__()\n",
        "        self.embedding = nn.Embedding.from_pretrained(embeddings_vectors, freeze=True)\n",
        "        self.rnn = nn.GRU(embedding_dim, hidden_dim, batch_first=True)\n",
        "        self.output = nn.Linear(hidden_dim, output_dim)\n",
        "\n",
        "    def forward(self, text):\n",
        "        embedded = self.embedding(text)\n",
        "        _, embedded = self.rnn(embedded)\n",
        "        return self.output(embedded[-1])\n",
        "\n",
        "def tokenize(text, max_length = 100):\n",
        "    tokenizer = get_tokenizer('basic_english')\n",
        "    text = text.lower()\n",
        "    text = re.sub(r\"([.!?,'*])\", r\"\", text)\n",
        "    text = re.sub(r\"([-])\", r\" \", text)\n",
        "    tokens = tokenizer(text)\n",
        "    if len(tokens) < max_length:\n",
        "      tokens.extend(['<PAD>']*(max_length - len(tokens)))\n",
        "    tokens = tokens[:max_length]\n",
        "    tokens = [glove.stoi.get(token, len(glove.stoi) - 1) for token in tokens]\n",
        "    tokens = np.array(tokens, dtype=np.int64)\n",
        "    return tokens\n",
        "\n",
        "device = torch.device(\"cuda\" if torch.cuda.is_available() else \"cpu\")\n",
        "\n",
        "glove = GloVe(name='6B', dim=token_dim)\n",
        "padding_vector = torch.zeros(token_dim)\n",
        "padding_token = '<PAD>'\n",
        "glove.itos.append(padding_token)  \n",
        "glove.stoi[padding_token] = len(glove.itos) - 1 \n",
        "glove.vectors = torch.cat((glove.vectors, padding_vector.unsqueeze(0)), dim=0) \n",
        "batch_size = 32\n",
        "token_dim = 50\n",
        "length = 100\n",
        "\n",
        "dataset = get_dataset(dataset=\"civilcomments\", download=True)\n",
        "train_data = dataset.get_subset(\n",
        "    \"train\")\n",
        "train_loader = get_train_loader(\"standard\", train_data, batch_size=32)\n",
        "test_data = dataset.get_subset(\n",
        "    \"val\")\n",
        "test_loader = get_train_loader(\"standard\", train_data, batch_size=32)\n",
        "\n",
        "from wilds.common.grouper import CombinatorialGrouper\n",
        "unawareness = CombinatorialGrouper(dataset, ['identity_any'])\n",
        "\n",
        "train_loader = get_train_loader(\n",
        "    \"group\", train_data, grouper=unawareness, n_groups_per_batch=1, batch_size=32\n",
        ")\n",
        "\n",
        "negative_samples = (train_data.y_array == 0).sum()\n",
        "positive_samples = (train_data.y_array == 1).sum()\n",
        "pos_weight = negative_samples / positive_samples\n",
        "model = ToxicClassifier(len(glove), token_dim, glove.vectors.to(device))\n",
        "model = model.to(device)\n",
        "criterion = nn.BCEWithLogitsLoss(pos_weight = pos_weight)\n",
        "optimizer = optim.Adam(model.parameters(), lr = 1e-1)\n",
        "scheduler = ReduceLROnPlateau(optimizer, 'min', factor=0.1, patience = 10)\n",
        "num_epochs = 20\n",
        "for epoch in range(0, num_epochs):\n",
        "  train_loss = 0.0\n",
        "  train_correct = 0\n",
        "  train_total = 0\n",
        "  model.train()\n",
        "  pbar = tqdm(train_loader)\n",
        "  for _ , cur_train in enumerate(pbar):\n",
        "      input, label, metadata = cur_train\n",
        "      if metadata[:,8].sum() == 0:\n",
        "        input = tuple(map(tokenize, input))\n",
        "        input = torch.Tensor(input).long().to(device)\n",
        "        label = label.to(device)\n",
        "        output = model(input).reshape(-1)\n",
        "        loss = criterion(output, label.float())\n",
        "        optimizer.zero_grad()\n",
        "        loss.backward()\n",
        "        optimizer.step()\n",
        "        predicted_labels = (torch.sigmoid(output) >= 0.5).float()\n",
        "        train_correct += (predicted_labels == label).sum().item()\n",
        "        train_total += len(label)\n",
        "        pbar.set_postfix(MSE=loss.item())\n",
        "        train_loss += loss\n",
        "  train_loss /= len(train_loader.dataset)\n",
        "  scheduler.step(train_loss)\n",
        "  train_acc = train_correct / train_total\n",
        "  print(f\"Epoch {epoch+1}/{num_epochs}, Train Loss: {train_loss:.4f}, Train Acc: {train_acc:.4f}\")  \n",
        "\n",
        "  test_loss = 0.0\n",
        "  test_correct = 0\n",
        "  test_total = 0\n",
        "  pbar = tqdm(test_loader)\n",
        "  model.eval()\n",
        "  with torch.no_grad():\n",
        "      for i, data in enumerate(pbar, 0):\n",
        "          input, label, groupings = cur_train\n",
        "          input = tuple(map(tokenize, input))\n",
        "          input = torch.Tensor(input).long().to(device)\n",
        "          label = label.to(device)\n",
        "          output = model(input).reshape(-1)\n",
        "          loss = criterion(output, label.float())\n",
        "          predicted_labels = (torch.sigmoid(output) >= 0.5).float()\n",
        "          test_total += len(label)\n",
        "          test_correct += (predicted_labels == label).sum().item()\n",
        "          test_loss += loss\n",
        "          pbar.set_postfix(MSE=loss.item())\n",
        "      \n",
        "  test_loss /= len(test_loader.dataset)\n",
        "  test_acc = test_correct / test_total\n",
        "  print(f\"Epoch {epoch+1}/{num_epochs}, Test Loss: {test_loss:.4f}, Test Acc: {test_acc:.4f}\")\n",
        "\n",
        "\n",
        "from wilds.common.data_loaders import get_eval_loader\n",
        "\n",
        "# Get the test set\n",
        "test_data = dataset.get_subset(\n",
        "    \"test\",\n",
        ")\n",
        "\n",
        "# Prepare the data loader\n",
        "test_loader = get_eval_loader(\"standard\", test_data, batch_size=32)\n",
        "trues = []\n",
        "preds = []\n",
        "metadatas = []\n",
        "for input, true, metadata in test_loader:\n",
        "    with torch.no_grad():\n",
        "      input = tuple(map(tokenize, input))\n",
        "      input = torch.Tensor(input).long().to(device)\n",
        "      output = model(input)\n",
        "      output = (torch.sigmoid(output) >= 0.5).long().reshape(-1)\n",
        "      trues.append(true.to('cpu'))\n",
        "      preds.append(output.to('cpu'))\n",
        "      metadatas.append(metadata.to('cpu'))\n",
        "all_preds = torch.cat(preds, dim = 0)\n",
        "all_trues = torch.cat(trues, dim = 0)\n",
        "all_metas = torch.cat(metadatas, dim = 0)\n",
        "print(dataset.eval(all_preds, all_trues, all_metas))"
      ],
      "metadata": {
        "colab": {
          "base_uri": "https://localhost:8080/"
        },
        "id": "6tqjLZSaRIPK",
        "outputId": "c60c0b3e-9222-41db-a948-bf3045f4a271"
      },
      "execution_count": null,
      "outputs": [
        {
          "output_type": "stream",
          "name": "stderr",
          "text": [
            "100%|██████████| 8407/8407 [00:54<00:00, 153.28it/s, MSE=0.792]\n"
          ]
        },
        {
          "output_type": "stream",
          "name": "stdout",
          "text": [
            "Epoch 1/20, Train Loss: 0.0171, Train Acc: 0.7037\n"
          ]
        },
        {
          "output_type": "stream",
          "name": "stderr",
          "text": [
            "100%|██████████| 8408/8408 [00:50<00:00, 167.07it/s, MSE=1.53]\n"
          ]
        },
        {
          "output_type": "stream",
          "name": "stdout",
          "text": [
            "Epoch 1/20, Test Loss: 0.0479, Test Acc: 0.7500\n"
          ]
        },
        {
          "output_type": "stream",
          "name": "stderr",
          "text": [
            "100%|██████████| 8407/8407 [00:52<00:00, 159.19it/s, MSE=0.539]\n"
          ]
        },
        {
          "output_type": "stream",
          "name": "stdout",
          "text": [
            "Epoch 2/20, Train Loss: 0.0181, Train Acc: 0.6820\n"
          ]
        },
        {
          "output_type": "stream",
          "name": "stderr",
          "text": [
            "100%|██████████| 8408/8408 [00:53<00:00, 157.99it/s, MSE=0.924]\n"
          ]
        },
        {
          "output_type": "stream",
          "name": "stdout",
          "text": [
            "Epoch 2/20, Test Loss: 0.0289, Test Acc: 0.7188\n"
          ]
        },
        {
          "output_type": "stream",
          "name": "stderr",
          "text": [
            "100%|██████████| 8407/8407 [00:53<00:00, 156.69it/s, MSE=0.946]\n"
          ]
        },
        {
          "output_type": "stream",
          "name": "stdout",
          "text": [
            "Epoch 3/20, Train Loss: 0.0181, Train Acc: 0.6869\n"
          ]
        },
        {
          "output_type": "stream",
          "name": "stderr",
          "text": [
            "100%|██████████| 8408/8408 [00:50<00:00, 166.65it/s, MSE=1.44]\n"
          ]
        },
        {
          "output_type": "stream",
          "name": "stdout",
          "text": [
            "Epoch 3/20, Test Loss: 0.0449, Test Acc: 0.7812\n"
          ]
        },
        {
          "output_type": "stream",
          "name": "stderr",
          "text": [
            "100%|██████████| 8407/8407 [00:53<00:00, 158.28it/s, MSE=0.897]\n"
          ]
        },
        {
          "output_type": "stream",
          "name": "stdout",
          "text": [
            "Epoch 4/20, Train Loss: 0.0181, Train Acc: 0.6808\n"
          ]
        },
        {
          "output_type": "stream",
          "name": "stderr",
          "text": [
            "100%|██████████| 8408/8408 [00:47<00:00, 177.14it/s, MSE=0.921]\n"
          ]
        },
        {
          "output_type": "stream",
          "name": "stdout",
          "text": [
            "Epoch 4/20, Test Loss: 0.0288, Test Acc: 0.3438\n"
          ]
        },
        {
          "output_type": "stream",
          "name": "stderr",
          "text": [
            "100%|██████████| 8407/8407 [00:52<00:00, 159.71it/s, MSE=0.882]\n"
          ]
        },
        {
          "output_type": "stream",
          "name": "stdout",
          "text": [
            "Epoch 5/20, Train Loss: 0.0179, Train Acc: 0.6771\n"
          ]
        },
        {
          "output_type": "stream",
          "name": "stderr",
          "text": [
            "100%|██████████| 8408/8408 [00:52<00:00, 161.27it/s, MSE=1.92]\n"
          ]
        },
        {
          "output_type": "stream",
          "name": "stdout",
          "text": [
            "Epoch 5/20, Test Loss: 0.0601, Test Acc: 0.6250\n"
          ]
        },
        {
          "output_type": "stream",
          "name": "stderr",
          "text": [
            "100%|██████████| 8407/8407 [00:53<00:00, 156.38it/s, MSE=0.862]\n"
          ]
        },
        {
          "output_type": "stream",
          "name": "stdout",
          "text": [
            "Epoch 6/20, Train Loss: 0.0181, Train Acc: 0.6885\n"
          ]
        },
        {
          "output_type": "stream",
          "name": "stderr",
          "text": [
            "100%|██████████| 8408/8408 [00:46<00:00, 180.68it/s, MSE=0.858]\n"
          ]
        },
        {
          "output_type": "stream",
          "name": "stdout",
          "text": [
            "Epoch 6/20, Test Loss: 0.0268, Test Acc: 0.7188\n"
          ]
        },
        {
          "output_type": "stream",
          "name": "stderr",
          "text": [
            "100%|██████████| 8407/8407 [00:52<00:00, 158.63it/s, MSE=0.665]\n"
          ]
        },
        {
          "output_type": "stream",
          "name": "stdout",
          "text": [
            "Epoch 7/20, Train Loss: 0.0179, Train Acc: 0.6859\n"
          ]
        },
        {
          "output_type": "stream",
          "name": "stderr",
          "text": [
            "100%|██████████| 8408/8408 [00:47<00:00, 175.40it/s, MSE=0.553]\n"
          ]
        },
        {
          "output_type": "stream",
          "name": "stdout",
          "text": [
            "Epoch 7/20, Test Loss: 0.0173, Test Acc: 0.8750\n"
          ]
        },
        {
          "output_type": "stream",
          "name": "stderr",
          "text": [
            "100%|██████████| 8407/8407 [00:53<00:00, 158.31it/s, MSE=0.777]\n"
          ]
        },
        {
          "output_type": "stream",
          "name": "stdout",
          "text": [
            "Epoch 8/20, Train Loss: 0.0184, Train Acc: 0.6818\n"
          ]
        },
        {
          "output_type": "stream",
          "name": "stderr",
          "text": [
            "100%|██████████| 8408/8408 [00:45<00:00, 186.15it/s, MSE=0.776]\n"
          ]
        },
        {
          "output_type": "stream",
          "name": "stdout",
          "text": [
            "Epoch 8/20, Test Loss: 0.0242, Test Acc: 0.8750\n"
          ]
        },
        {
          "output_type": "stream",
          "name": "stderr",
          "text": [
            "100%|██████████| 8407/8407 [00:53<00:00, 157.71it/s, MSE=1.85]\n"
          ]
        },
        {
          "output_type": "stream",
          "name": "stdout",
          "text": [
            "Epoch 9/20, Train Loss: 0.0178, Train Acc: 0.6897\n"
          ]
        },
        {
          "output_type": "stream",
          "name": "stderr",
          "text": [
            "100%|██████████| 8408/8408 [00:48<00:00, 174.65it/s, MSE=1.74]\n"
          ]
        },
        {
          "output_type": "stream",
          "name": "stdout",
          "text": [
            "Epoch 9/20, Test Loss: 0.0543, Test Acc: 0.5938\n"
          ]
        },
        {
          "output_type": "stream",
          "name": "stderr",
          "text": [
            "100%|██████████| 8407/8407 [00:52<00:00, 160.03it/s, MSE=0.836]\n"
          ]
        },
        {
          "output_type": "stream",
          "name": "stdout",
          "text": [
            "Epoch 10/20, Train Loss: 0.0179, Train Acc: 0.6899\n"
          ]
        },
        {
          "output_type": "stream",
          "name": "stderr",
          "text": [
            "100%|██████████| 8408/8408 [00:46<00:00, 181.47it/s, MSE=0.838]\n"
          ]
        },
        {
          "output_type": "stream",
          "name": "stdout",
          "text": [
            "Epoch 10/20, Test Loss: 0.0262, Test Acc: 0.5625\n"
          ]
        },
        {
          "output_type": "stream",
          "name": "stderr",
          "text": [
            "100%|██████████| 8407/8407 [00:53<00:00, 157.96it/s, MSE=0.421]\n"
          ]
        },
        {
          "output_type": "stream",
          "name": "stdout",
          "text": [
            "Epoch 11/20, Train Loss: 0.0185, Train Acc: 0.6836\n"
          ]
        },
        {
          "output_type": "stream",
          "name": "stderr",
          "text": [
            "100%|██████████| 8408/8408 [00:49<00:00, 169.72it/s, MSE=1.76]\n"
          ]
        },
        {
          "output_type": "stream",
          "name": "stdout",
          "text": [
            "Epoch 11/20, Test Loss: 0.0549, Test Acc: 0.8438\n"
          ]
        },
        {
          "output_type": "stream",
          "name": "stderr",
          "text": [
            "100%|██████████| 8407/8407 [00:53<00:00, 158.50it/s, MSE=1]\n"
          ]
        },
        {
          "output_type": "stream",
          "name": "stdout",
          "text": [
            "Epoch 12/20, Train Loss: 0.0179, Train Acc: 0.6985\n"
          ]
        },
        {
          "output_type": "stream",
          "name": "stderr",
          "text": [
            "100%|██████████| 8408/8408 [00:44<00:00, 186.94it/s, MSE=1.01]\n"
          ]
        },
        {
          "output_type": "stream",
          "name": "stdout",
          "text": [
            "Epoch 12/20, Test Loss: 0.0317, Test Acc: 0.9375\n"
          ]
        },
        {
          "output_type": "stream",
          "name": "stderr",
          "text": [
            "100%|██████████| 8407/8407 [00:53<00:00, 156.81it/s, MSE=0.945]\n"
          ]
        },
        {
          "output_type": "stream",
          "name": "stdout",
          "text": [
            "Epoch 13/20, Train Loss: 0.0159, Train Acc: 0.8172\n"
          ]
        },
        {
          "output_type": "stream",
          "name": "stderr",
          "text": [
            "100%|██████████| 8408/8408 [00:48<00:00, 172.57it/s, MSE=1.1]\n"
          ]
        },
        {
          "output_type": "stream",
          "name": "stdout",
          "text": [
            "Epoch 13/20, Test Loss: 0.0343, Test Acc: 0.6562\n"
          ]
        },
        {
          "output_type": "stream",
          "name": "stderr",
          "text": [
            "100%|██████████| 8407/8407 [00:52<00:00, 158.83it/s, MSE=0.928]\n"
          ]
        },
        {
          "output_type": "stream",
          "name": "stdout",
          "text": [
            "Epoch 14/20, Train Loss: 0.0154, Train Acc: 0.8210\n"
          ]
        },
        {
          "output_type": "stream",
          "name": "stderr",
          "text": [
            "100%|██████████| 8408/8408 [00:48<00:00, 174.10it/s, MSE=0.922]\n"
          ]
        },
        {
          "output_type": "stream",
          "name": "stdout",
          "text": [
            "Epoch 14/20, Test Loss: 0.0288, Test Acc: 0.8438\n"
          ]
        },
        {
          "output_type": "stream",
          "name": "stderr",
          "text": [
            "100%|██████████| 8407/8407 [00:53<00:00, 155.87it/s, MSE=1.12]\n"
          ]
        },
        {
          "output_type": "stream",
          "name": "stdout",
          "text": [
            "Epoch 15/20, Train Loss: 0.0160, Train Acc: 0.8182\n"
          ]
        },
        {
          "output_type": "stream",
          "name": "stderr",
          "text": [
            "100%|██████████| 8408/8408 [00:52<00:00, 159.52it/s, MSE=0.92]\n"
          ]
        },
        {
          "output_type": "stream",
          "name": "stdout",
          "text": [
            "Epoch 15/20, Test Loss: 0.0288, Test Acc: 0.9062\n"
          ]
        },
        {
          "output_type": "stream",
          "name": "stderr",
          "text": [
            "100%|██████████| 8407/8407 [00:53<00:00, 157.40it/s, MSE=0.554]\n"
          ]
        },
        {
          "output_type": "stream",
          "name": "stdout",
          "text": [
            "Epoch 16/20, Train Loss: 0.0158, Train Acc: 0.8135\n"
          ]
        },
        {
          "output_type": "stream",
          "name": "stderr",
          "text": [
            "100%|██████████| 8408/8408 [00:51<00:00, 164.62it/s, MSE=1.06]\n"
          ]
        },
        {
          "output_type": "stream",
          "name": "stdout",
          "text": [
            "Epoch 16/20, Test Loss: 0.0330, Test Acc: 0.8125\n"
          ]
        },
        {
          "output_type": "stream",
          "name": "stderr",
          "text": [
            "100%|██████████| 8407/8407 [00:54<00:00, 155.07it/s, MSE=0.421]\n"
          ]
        },
        {
          "output_type": "stream",
          "name": "stdout",
          "text": [
            "Epoch 17/20, Train Loss: 0.0160, Train Acc: 0.8206\n"
          ]
        },
        {
          "output_type": "stream",
          "name": "stderr",
          "text": [
            "100%|██████████| 8408/8408 [00:51<00:00, 163.64it/s, MSE=2.09]\n"
          ]
        },
        {
          "output_type": "stream",
          "name": "stdout",
          "text": [
            "Epoch 17/20, Test Loss: 0.0652, Test Acc: 0.7812\n"
          ]
        },
        {
          "output_type": "stream",
          "name": "stderr",
          "text": [
            "100%|██████████| 8407/8407 [00:53<00:00, 157.77it/s, MSE=1.01]\n"
          ]
        },
        {
          "output_type": "stream",
          "name": "stdout",
          "text": [
            "Epoch 18/20, Train Loss: 0.0154, Train Acc: 0.8203\n"
          ]
        },
        {
          "output_type": "stream",
          "name": "stderr",
          "text": [
            "100%|██████████| 8408/8408 [00:47<00:00, 176.00it/s, MSE=1]\n"
          ]
        },
        {
          "output_type": "stream",
          "name": "stdout",
          "text": [
            "Epoch 18/20, Test Loss: 0.0314, Test Acc: 0.7812\n"
          ]
        },
        {
          "output_type": "stream",
          "name": "stderr",
          "text": [
            "100%|██████████| 8407/8407 [00:52<00:00, 159.32it/s, MSE=0.668]\n"
          ]
        },
        {
          "output_type": "stream",
          "name": "stdout",
          "text": [
            "Epoch 19/20, Train Loss: 0.0157, Train Acc: 0.8183\n"
          ]
        },
        {
          "output_type": "stream",
          "name": "stderr",
          "text": [
            "100%|██████████| 8408/8408 [00:45<00:00, 182.85it/s, MSE=0.662]\n"
          ]
        },
        {
          "output_type": "stream",
          "name": "stdout",
          "text": [
            "Epoch 19/20, Test Loss: 0.0207, Test Acc: 0.9375\n"
          ]
        },
        {
          "output_type": "stream",
          "name": "stderr",
          "text": [
            "100%|██████████| 8407/8407 [00:53<00:00, 158.18it/s, MSE=0.952]\n"
          ]
        },
        {
          "output_type": "stream",
          "name": "stdout",
          "text": [
            "Epoch 20/20, Train Loss: 0.0158, Train Acc: 0.8166\n"
          ]
        },
        {
          "output_type": "stream",
          "name": "stderr",
          "text": [
            "100%|██████████| 8408/8408 [00:47<00:00, 178.45it/s, MSE=0.96]\n"
          ]
        },
        {
          "output_type": "stream",
          "name": "stdout",
          "text": [
            "Epoch 20/20, Test Loss: 0.0300, Test Acc: 0.5312\n",
            "({'acc_avg': 0.5540057420730591, 'acc_y:0_male:1': 0.5769930481910706, 'count_y:0_male:1': 12092.0, 'acc_y:1_male:1': 0.5111212134361267, 'count_y:1_male:1': 2203.0, 'acc_y:0_female:1': 0.5901685357093811, 'count_y:0_female:1': 14179.0, 'acc_y:1_female:1': 0.5246695876121521, 'count_y:1_female:1': 2270.0, 'acc_y:0_LGBTQ:1': 0.5953270792961121, 'count_y:0_LGBTQ:1': 3210.0, 'acc_y:1_LGBTQ:1': 0.5222039222717285, 'count_y:1_LGBTQ:1': 1216.0, 'acc_y:0_christian:1': 0.6166432499885559, 'count_y:0_christian:1': 12101.0, 'acc_y:1_christian:1': 0.5111111402511597, 'count_y:1_christian:1': 1260.0, 'acc_y:0_muslim:1': 0.6046685576438904, 'count_y:0_muslim:1': 5355.0, 'acc_y:1_muslim:1': 0.46650275588035583, 'count_y:1_muslim:1': 1627.0, 'acc_y:0_other_religions:1': 0.616778552532196, 'count_y:0_other_religions:1': 2980.0, 'acc_y:1_other_religions:1': 0.4980769157409668, 'count_y:1_other_religions:1': 520.0, 'acc_y:0_black:1': 0.6281859278678894, 'count_y:0_black:1': 3335.0, 'acc_y:1_black:1': 0.481457382440567, 'count_y:1_black:1': 1537.0, 'acc_y:0_white:1': 0.5795910954475403, 'count_y:0_white:1': 5723.0, 'acc_y:1_white:1': 0.5, 'count_y:1_white:1': 2246.0, 'acc_wg': 0.46650275588035583}, 'Average acc: 0.554\\n  male                   acc on non_toxic: 0.577 (n =  12092)    acc on toxic: 0.511 (n =   2203) \\n  female                 acc on non_toxic: 0.590 (n =  14179)    acc on toxic: 0.525 (n =   2270) \\n  LGBTQ                  acc on non_toxic: 0.595 (n =   3210)    acc on toxic: 0.522 (n =   1216) \\n  christian              acc on non_toxic: 0.617 (n =  12101)    acc on toxic: 0.511 (n =   1260) \\n  muslim                 acc on non_toxic: 0.605 (n =   5355)    acc on toxic: 0.467 (n =   1627) \\n  other_religions        acc on non_toxic: 0.617 (n =   2980)    acc on toxic: 0.498 (n =    520) \\n  black                  acc on non_toxic: 0.628 (n =   3335)    acc on toxic: 0.481 (n =   1537) \\n  white                  acc on non_toxic: 0.580 (n =   5723)    acc on toxic: 0.500 (n =   2246) \\nWorst-group acc: 0.467\\n')\n"
          ]
        }
      ]
    }
  ],
  "metadata": {
    "accelerator": "GPU",
    "colab": {
      "machine_shape": "hm",
      "provenance": []
    },
    "gpuClass": "standard",
    "kernelspec": {
      "display_name": "Python 3",
      "name": "python3"
    },
    "language_info": {
      "name": "python"
    }
  },
  "nbformat": 4,
  "nbformat_minor": 0
}