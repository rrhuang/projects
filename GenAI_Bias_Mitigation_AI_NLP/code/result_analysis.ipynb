{
 "cells": [
  {
   "cell_type": "code",
   "execution_count": 1,
   "metadata": {},
   "outputs": [],
   "source": [
    "import pandas as pd\n",
    "import numpy as np"
   ]
  },
  {
   "cell_type": "code",
   "execution_count": 11,
   "metadata": {},
   "outputs": [],
   "source": [
    "df = pd.read_csv('wb_extract.csv')"
   ]
  },
  {
   "cell_type": "code",
   "execution_count": null,
   "metadata": {},
   "outputs": [],
   "source": []
  },
  {
   "cell_type": "markdown",
   "metadata": {},
   "source": [
    "Overall Accuracy"
   ]
  },
  {
   "cell_type": "code",
   "execution_count": 12,
   "metadata": {},
   "outputs": [
    {
     "name": "stdout",
     "output_type": "stream",
     "text": [
      "True     0.838384\n",
      "False    0.161616\n",
      "Name: GPT-OG-Correct, dtype: float64\n",
      "True     0.883838\n",
      "False    0.116162\n",
      "Name: Gemini-OG-Correct, dtype: float64\n",
      "True     0.835227\n",
      "False    0.164773\n",
      "Name: LLAMA-OG-Correct, dtype: float64\n"
     ]
    }
   ],
   "source": [
    "print(df['GPT-OG-Correct'].value_counts()/len(df))\n",
    "print(df['Gemini-OG-Correct'].value_counts()/len(df))\n",
    "print(df['LLAMA-OG-Correct'].value_counts()/len(df))"
   ]
  },
  {
   "cell_type": "code",
   "execution_count": 13,
   "metadata": {},
   "outputs": [
    {
     "name": "stdout",
     "output_type": "stream",
     "text": [
      "True     0.886364\n",
      "False    0.113636\n",
      "Name: GPT-New-Correct, dtype: float64\n",
      "True     0.945707\n",
      "False    0.054293\n",
      "Name: Gemini-New-Correct, dtype: float64\n",
      "True     0.901515\n",
      "False    0.098485\n",
      "Name: LLAMA-New-Correct, dtype: float64\n"
     ]
    }
   ],
   "source": [
    "print(df['GPT-New-Correct'].value_counts()/len(df))\n",
    "print(df['Gemini-New-Correct'].value_counts()/len(df))\n",
    "print(df['LLAMA-New-Correct'].value_counts()/len(df))"
   ]
  },
  {
   "cell_type": "markdown",
   "metadata": {},
   "source": [
    "Accuracy by stereotype\n"
   ]
  },
  {
   "cell_type": "code",
   "execution_count": 19,
   "metadata": {},
   "outputs": [
    {
     "name": "stdout",
     "output_type": "stream",
     "text": [
      "True     0.931818\n",
      "False    0.068182\n",
      "Name: GPT-OG-Correct, dtype: float64\n",
      "True     0.954545\n",
      "False    0.045455\n",
      "Name: Gemini-OG-Correct, dtype: float64\n",
      "True     0.954545\n",
      "False    0.045455\n",
      "Name: LLAMA-OG-Correct, dtype: float64\n"
     ]
    }
   ],
   "source": [
    "print(df[df['Stereotype'] == 'pro']['GPT-OG-Correct'].value_counts()/len(df[df['Stereotype'] == 'pro']))\n",
    "print(df[df['Stereotype'] == 'pro']['Gemini-OG-Correct'].value_counts()/len(df[df['Stereotype'] == 'pro']))\n",
    "print(df[df['Stereotype'] == 'pro']['LLAMA-OG-Correct'].value_counts()/len(df[df['Stereotype'] == 'pro']))"
   ]
  },
  {
   "cell_type": "code",
   "execution_count": 21,
   "metadata": {},
   "outputs": [
    {
     "name": "stdout",
     "output_type": "stream",
     "text": [
      "True     0.744949\n",
      "False    0.255051\n",
      "Name: GPT-OG-Correct, dtype: float64\n",
      "True     0.813131\n",
      "False    0.186869\n",
      "Name: Gemini-OG-Correct, dtype: float64\n",
      "True     0.715909\n",
      "False    0.284091\n",
      "Name: LLAMA-OG-Correct, dtype: float64\n"
     ]
    }
   ],
   "source": [
    "print(df[df['Stereotype'] == 'anti']['GPT-OG-Correct'].value_counts()/len(df[df['Stereotype'] == 'anti']))\n",
    "print(df[df['Stereotype'] == 'anti']['Gemini-OG-Correct'].value_counts()/len(df[df['Stereotype'] == 'anti']))\n",
    "print(df[df['Stereotype'] == 'anti']['LLAMA-OG-Correct'].value_counts()/len(df[df['Stereotype'] == 'anti']))"
   ]
  },
  {
   "cell_type": "code",
   "execution_count": 22,
   "metadata": {},
   "outputs": [
    {
     "name": "stdout",
     "output_type": "stream",
     "text": [
      "True     0.941919\n",
      "False    0.058081\n",
      "Name: GPT-New-Correct, dtype: float64\n",
      "True     0.993687\n",
      "False    0.006313\n",
      "Name: Gemini-New-Correct, dtype: float64\n",
      "True     0.97601\n",
      "False    0.02399\n",
      "Name: LLAMA-New-Correct, dtype: float64\n"
     ]
    }
   ],
   "source": [
    "print(df[df['Stereotype'] == 'pro']['GPT-New-Correct'].value_counts()/len(df[df['Stereotype'] == 'pro']))\n",
    "print(df[df['Stereotype'] == 'pro']['Gemini-New-Correct'].value_counts()/len(df[df['Stereotype'] == 'pro']))\n",
    "print(df[df['Stereotype'] == 'pro']['LLAMA-New-Correct'].value_counts()/len(df[df['Stereotype'] == 'pro']))"
   ]
  },
  {
   "cell_type": "code",
   "execution_count": 23,
   "metadata": {},
   "outputs": [
    {
     "name": "stdout",
     "output_type": "stream",
     "text": [
      "True     0.830808\n",
      "False    0.169192\n",
      "Name: GPT-New-Correct, dtype: float64\n",
      "True     0.897727\n",
      "False    0.102273\n",
      "Name: Gemini-New-Correct, dtype: float64\n",
      "True     0.82702\n",
      "False    0.17298\n",
      "Name: LLAMA-New-Correct, dtype: float64\n"
     ]
    }
   ],
   "source": [
    "print(df[df['Stereotype'] == 'anti']['GPT-New-Correct'].value_counts()/len(df[df['Stereotype'] == 'anti']))\n",
    "print(df[df['Stereotype'] == 'anti']['Gemini-New-Correct'].value_counts()/len(df[df['Stereotype'] == 'anti']))\n",
    "print(df[df['Stereotype'] == 'anti']['LLAMA-New-Correct'].value_counts()/len(df[df['Stereotype'] == 'anti']))"
   ]
  },
  {
   "cell_type": "markdown",
   "metadata": {},
   "source": [
    "Accuracy by sex\n"
   ]
  },
  {
   "cell_type": "code",
   "execution_count": 24,
   "metadata": {},
   "outputs": [
    {
     "data": {
      "text/plain": [
       "0       him\n",
       "1       her\n",
       "2       him\n",
       "3       her\n",
       "4       him\n",
       "       ... \n",
       "1579    him\n",
       "1580    her\n",
       "1581    him\n",
       "1582    her\n",
       "1583    him\n",
       "Name: Pronoun, Length: 1584, dtype: object"
      ]
     },
     "execution_count": 24,
     "metadata": {},
     "output_type": "execute_result"
    }
   ],
   "source": [
    "df['Pronoun']"
   ]
  },
  {
   "cell_type": "code",
   "execution_count": 26,
   "metadata": {},
   "outputs": [],
   "source": [
    "def sex_from_pronoun(pronoun):\n",
    "    if pronoun.lower() in ['him','his','he']:\n",
    "        return 'Male'\n",
    "    elif pronoun.lower() in ['she','her','hers']:\n",
    "        return 'Female'"
   ]
  },
  {
   "cell_type": "code",
   "execution_count": 27,
   "metadata": {},
   "outputs": [],
   "source": [
    "df['Sex'] = df['Pronoun'].apply(lambda x: sex_from_pronoun(x))"
   ]
  },
  {
   "cell_type": "code",
   "execution_count": 32,
   "metadata": {},
   "outputs": [
    {
     "name": "stdout",
     "output_type": "stream",
     "text": [
      "True     0.845088\n",
      "False    0.154912\n",
      "Name: GPT-OG-Correct, dtype: float64\n",
      "True     0.904282\n",
      "False    0.095718\n",
      "Name: Gemini-OG-Correct, dtype: float64\n",
      "True     0.870277\n",
      "False    0.129723\n",
      "Name: LLAMA-OG-Correct, dtype: float64\n"
     ]
    }
   ],
   "source": [
    "print(df[df['Sex'] == 'Male']['GPT-OG-Correct'].value_counts()/len(df[df['Sex'] == 'Male']))\n",
    "print(df[df['Sex'] == 'Male']['Gemini-OG-Correct'].value_counts()/len(df[df['Sex'] == 'Male']))\n",
    "print(df[df['Sex'] == 'Male']['LLAMA-OG-Correct'].value_counts()/len(df[df['Sex'] == 'Male']))"
   ]
  },
  {
   "cell_type": "code",
   "execution_count": 29,
   "metadata": {},
   "outputs": [
    {
     "name": "stdout",
     "output_type": "stream",
     "text": [
      "True     0.831646\n",
      "False    0.168354\n",
      "Name: GPT-OG-Correct, dtype: float64\n",
      "True     0.863291\n",
      "False    0.136709\n",
      "Name: Gemini-OG-Correct, dtype: float64\n",
      "True     0.8\n",
      "False    0.2\n",
      "Name: LLAMA-OG-Correct, dtype: float64\n"
     ]
    }
   ],
   "source": [
    "print(df[df['Sex'] == 'Female']['GPT-OG-Correct'].value_counts()/len(df[df['Sex'] == 'Female']))\n",
    "print(df[df['Sex'] == 'Female']['Gemini-OG-Correct'].value_counts()/len(df[df['Sex'] == 'Female']))\n",
    "print(df[df['Sex'] == 'Female']['LLAMA-OG-Correct'].value_counts()/len(df[df['Sex'] == 'Female']))"
   ]
  },
  {
   "cell_type": "code",
   "execution_count": 30,
   "metadata": {},
   "outputs": [
    {
     "name": "stdout",
     "output_type": "stream",
     "text": [
      "True     0.900504\n",
      "False    0.099496\n",
      "Name: GPT-New-Correct, dtype: float64\n",
      "True     0.963476\n",
      "False    0.036524\n",
      "Name: Gemini-New-Correct, dtype: float64\n",
      "True     0.929471\n",
      "False    0.070529\n",
      "Name: LLAMA-New-Correct, dtype: float64\n"
     ]
    }
   ],
   "source": [
    "print(df[df['Sex'] == 'Male']['GPT-New-Correct'].value_counts()/len(df[df['Sex'] == 'Male']))\n",
    "print(df[df['Sex'] == 'Male']['Gemini-New-Correct'].value_counts()/len(df[df['Sex'] == 'Male']))\n",
    "print(df[df['Sex'] == 'Male']['LLAMA-New-Correct'].value_counts()/len(df[df['Sex'] == 'Male']))"
   ]
  },
  {
   "cell_type": "code",
   "execution_count": 31,
   "metadata": {},
   "outputs": [
    {
     "name": "stdout",
     "output_type": "stream",
     "text": [
      "True     0.872152\n",
      "False    0.127848\n",
      "Name: GPT-New-Correct, dtype: float64\n",
      "True     0.927848\n",
      "False    0.072152\n",
      "Name: Gemini-New-Correct, dtype: float64\n",
      "True     0.873418\n",
      "False    0.126582\n",
      "Name: LLAMA-New-Correct, dtype: float64\n"
     ]
    }
   ],
   "source": [
    "print(df[df['Sex'] == 'Female']['GPT-New-Correct'].value_counts()/len(df[df['Sex'] == 'Female']))\n",
    "print(df[df['Sex'] == 'Female']['Gemini-New-Correct'].value_counts()/len(df[df['Sex'] == 'Female']))\n",
    "print(df[df['Sex'] == 'Female']['LLAMA-New-Correct'].value_counts()/len(df[df['Sex'] == 'Female']))"
   ]
  },
  {
   "cell_type": "markdown",
   "metadata": {},
   "source": [
    "Table creation"
   ]
  },
  {
   "cell_type": "markdown",
   "metadata": {},
   "source": [
    "True     0.872152\n",
    "False    0.127848\n",
    "Name: GPT-New-Correct, dtype: float64\n",
    "True     0.927848\n",
    "False    0.072152\n",
    "Name: Gemini-New-Correct, dtype: float64\n",
    "True     0.873418\n",
    "False    0.126582\n",
    "Name: LLAMA-New-Correct, dtype: float64\n"
   ]
  },
  {
   "cell_type": "code",
   "execution_count": 38,
   "metadata": {},
   "outputs": [],
   "source": [
    "OverallOG = {'Type': 'Overall Original Accuracy','LLAMA':0.835227,'GPT':0.838384,'Gemini':0.883838}\n",
    "OverallNew = {'Type': 'Overall New Accuracy','LLAMA':0.901515,'GPT':0.886364,'Gemini':0.945707}\n",
    "\n",
    "ProSterOG = {'Type': 'Pro-Stereotype Original Accuracy','LLAMA':0.901515,'GPT':0.931818,'Gemini':0.954545}\n",
    "AntiSterOG = {'Type': 'Anti-Stereotype Original Accuracy','LLAMA':0.715909,'GPT':0.744949,'Gemini':0.813131}\n",
    "ProSterNew = {'Type': 'Pro-Stereotype New Accuracy','LLAMA':0.97601,'GPT':0.941919,'Gemini':0.993687}\n",
    "AntiSterNew = {'Type': 'Anti-Stereotype New Accuracy','LLAMA':0.82702,'GPT':0.830808,'Gemini':0.897727}\n",
    "\n",
    "\n",
    "MaleOG = {'Type': 'Male Original Accuracy','LLAMA':0.870277,'GPT':0.845088,'Gemini':0.904282}\n",
    "FemaleOG= {'Type': 'Female Original Accuracy','LLAMA':0.8,'GPT':0.831646,'Gemini':0.863291}\n",
    "MaleNew= {'Type': 'Male New Accuracy','LLAMA':0.929471,'GPT':0.900504,'Gemini':0.963476}\n",
    "FemaleNew= {'Type': 'Female New Accuracy','LLAMA':0.873418,'GPT':0.872152,'Gemini':0.927848}\n",
    "\n",
    "table = pd.DataFrame([OverallOG,OverallNew,ProSterOG,AntiSterOG,ProSterNew,AntiSterNew,MaleOG,FemaleOG,MaleNew,FemaleNew])\n",
    "\n",
    "table.set_index('Type', inplace=True)"
   ]
  },
  {
   "cell_type": "code",
   "execution_count": 39,
   "metadata": {},
   "outputs": [
    {
     "data": {
      "text/html": [
       "<div>\n",
       "<style scoped>\n",
       "    .dataframe tbody tr th:only-of-type {\n",
       "        vertical-align: middle;\n",
       "    }\n",
       "\n",
       "    .dataframe tbody tr th {\n",
       "        vertical-align: top;\n",
       "    }\n",
       "\n",
       "    .dataframe thead th {\n",
       "        text-align: right;\n",
       "    }\n",
       "</style>\n",
       "<table border=\"1\" class=\"dataframe\">\n",
       "  <thead>\n",
       "    <tr style=\"text-align: right;\">\n",
       "      <th></th>\n",
       "      <th>LLAMA</th>\n",
       "      <th>GPT</th>\n",
       "      <th>Gemini</th>\n",
       "    </tr>\n",
       "    <tr>\n",
       "      <th>Type</th>\n",
       "      <th></th>\n",
       "      <th></th>\n",
       "      <th></th>\n",
       "    </tr>\n",
       "  </thead>\n",
       "  <tbody>\n",
       "    <tr>\n",
       "      <th>Overall Original Accuracy</th>\n",
       "      <td>0.835227</td>\n",
       "      <td>0.838384</td>\n",
       "      <td>0.883838</td>\n",
       "    </tr>\n",
       "    <tr>\n",
       "      <th>Overall New Accuracy</th>\n",
       "      <td>0.901515</td>\n",
       "      <td>0.886364</td>\n",
       "      <td>0.945707</td>\n",
       "    </tr>\n",
       "    <tr>\n",
       "      <th>Pro-Stereotype Original Accuracy</th>\n",
       "      <td>0.901515</td>\n",
       "      <td>0.931818</td>\n",
       "      <td>0.954545</td>\n",
       "    </tr>\n",
       "    <tr>\n",
       "      <th>Anti-Stereotype Original Accuracy</th>\n",
       "      <td>0.715909</td>\n",
       "      <td>0.744949</td>\n",
       "      <td>0.813131</td>\n",
       "    </tr>\n",
       "    <tr>\n",
       "      <th>Pro-Stereotype New Accuracy</th>\n",
       "      <td>0.976010</td>\n",
       "      <td>0.941919</td>\n",
       "      <td>0.993687</td>\n",
       "    </tr>\n",
       "    <tr>\n",
       "      <th>Anti-Stereotype New Accuracy</th>\n",
       "      <td>0.827020</td>\n",
       "      <td>0.830808</td>\n",
       "      <td>0.897727</td>\n",
       "    </tr>\n",
       "    <tr>\n",
       "      <th>Male Original Accuracy</th>\n",
       "      <td>0.870277</td>\n",
       "      <td>0.845088</td>\n",
       "      <td>0.904282</td>\n",
       "    </tr>\n",
       "    <tr>\n",
       "      <th>Female Original Accuracy</th>\n",
       "      <td>0.800000</td>\n",
       "      <td>0.831646</td>\n",
       "      <td>0.863291</td>\n",
       "    </tr>\n",
       "    <tr>\n",
       "      <th>Male New Accuracy</th>\n",
       "      <td>0.929471</td>\n",
       "      <td>0.900504</td>\n",
       "      <td>0.963476</td>\n",
       "    </tr>\n",
       "    <tr>\n",
       "      <th>Female New Accuracy</th>\n",
       "      <td>0.873418</td>\n",
       "      <td>0.872152</td>\n",
       "      <td>0.927848</td>\n",
       "    </tr>\n",
       "  </tbody>\n",
       "</table>\n",
       "</div>"
      ],
      "text/plain": [
       "                                      LLAMA       GPT    Gemini\n",
       "Type                                                           \n",
       "Overall Original Accuracy          0.835227  0.838384  0.883838\n",
       "Overall New Accuracy               0.901515  0.886364  0.945707\n",
       "Pro-Stereotype Original Accuracy   0.901515  0.931818  0.954545\n",
       "Anti-Stereotype Original Accuracy  0.715909  0.744949  0.813131\n",
       "Pro-Stereotype New Accuracy        0.976010  0.941919  0.993687\n",
       "Anti-Stereotype New Accuracy       0.827020  0.830808  0.897727\n",
       "Male Original Accuracy             0.870277  0.845088  0.904282\n",
       "Female Original Accuracy           0.800000  0.831646  0.863291\n",
       "Male New Accuracy                  0.929471  0.900504  0.963476\n",
       "Female New Accuracy                0.873418  0.872152  0.927848"
      ]
     },
     "execution_count": 39,
     "metadata": {},
     "output_type": "execute_result"
    }
   ],
   "source": [
    "table"
   ]
  },
  {
   "cell_type": "code",
   "execution_count": 40,
   "metadata": {},
   "outputs": [],
   "source": [
    "table.to_csv('accuracy_table.csv')"
   ]
  }
 ],
 "metadata": {
  "kernelspec": {
   "display_name": "Clinic",
   "language": "python",
   "name": "python3"
  },
  "language_info": {
   "codemirror_mode": {
    "name": "ipython",
    "version": 3
   },
   "file_extension": ".py",
   "mimetype": "text/x-python",
   "name": "python",
   "nbconvert_exporter": "python",
   "pygments_lexer": "ipython3",
   "version": "3.10.8"
  }
 },
 "nbformat": 4,
 "nbformat_minor": 2
}
