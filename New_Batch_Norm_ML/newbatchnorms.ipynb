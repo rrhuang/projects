{
  "nbformat": 4,
  "nbformat_minor": 0,
  "metadata": {
    "colab": {
      "provenance": [],
      "machine_shape": "hm",
      "gpuType": "T4"
    },
    "kernelspec": {
      "name": "python3",
      "display_name": "Python 3"
    },
    "language_info": {
      "name": "python"
    },
    "accelerator": "GPU"
  },
  "cells": [
    {
      "cell_type": "code",
      "source": [
        "import torch, math, copy\n",
        "import numpy as np\n",
        "import matplotlib.pyplot as plt\n",
        "import seaborn as sns\n",
        "import torchvision\n",
        "from torchvision import datasets, transforms\n",
        "import torch.nn as nn\n",
        "import torch.nn.init as init\n",
        "import torch.nn.functional as F\n",
        "from scipy.stats import kde\n",
        "import matplotlib.pyplot as plt"
      ],
      "metadata": {
        "id": "-atnakusbjv0"
      },
      "execution_count": null,
      "outputs": []
    },
    {
      "cell_type": "code",
      "source": [
        "from torch.utils.data import DataLoader\n",
        "transform = transforms.Compose([transforms.ToTensor(),transforms.Normalize((0.5, 0.5, 0.5), (0.5, 0.5, 0.5))])\n",
        "\n",
        "train_dataset = datasets.CIFAR10(root='./data', train=True, download=True, transform=transform)\n",
        "test_dataset = datasets.CIFAR10(root='./data', train=False, download=True, transform=transform)\n",
        "\n",
        "train_loader = DataLoader(train_dataset, batch_size=64, shuffle=True)\n",
        "test_loader = DataLoader(test_dataset, batch_size=1000, shuffle=False)\n"
      ],
      "metadata": {
        "colab": {
          "base_uri": "https://localhost:8080/"
        },
        "id": "tI6YQDgxbkyJ",
        "outputId": "0ea88001-85cc-4d21-fa67-8f9d10346eb5"
      },
      "execution_count": null,
      "outputs": [
        {
          "output_type": "stream",
          "name": "stdout",
          "text": [
            "Downloading https://www.cs.toronto.edu/~kriz/cifar-10-python.tar.gz to ./data/cifar-10-python.tar.gz\n"
          ]
        },
        {
          "output_type": "stream",
          "name": "stderr",
          "text": [
            "100%|██████████| 170498071/170498071 [00:10<00:00, 16388001.75it/s]\n"
          ]
        },
        {
          "output_type": "stream",
          "name": "stdout",
          "text": [
            "Extracting ./data/cifar-10-python.tar.gz to ./data\n",
            "Files already downloaded and verified\n"
          ]
        }
      ]
    },
    {
      "cell_type": "code",
      "source": [
        "def train(model, device, train_loader, optimizer):\n",
        "    model.train()\n",
        "    for batch_idx, (data, target) in enumerate(train_loader):\n",
        "        data, target = data.to(device), target.to(device)\n",
        "        optimizer.zero_grad()\n",
        "        output = model(data)\n",
        "        loss = F.cross_entropy(output, target)\n",
        "        loss.backward(retain_graph=True)\n",
        "        optimizer.step()\n",
        "\n",
        "def test(model, device, test_loader):\n",
        "    model.eval()\n",
        "    test_loss = 0\n",
        "    correct = 0\n",
        "    with torch.no_grad():\n",
        "        for data, target in test_loader:\n",
        "            data, target = data.to(device), target.to(device)\n",
        "            output = model(data)\n",
        "            test_loss += F.cross_entropy(output, target, reduction='sum').item()\n",
        "            pred = output.argmax(dim=1, keepdim=True)\n",
        "            correct += pred.eq(target.view_as(pred)).sum().item()\n",
        "\n",
        "    test_loss /= len(test_loader.dataset)\n",
        "    accuracy = 100. * correct / len(test_loader.dataset)\n",
        "    return accuracy, test_loss\n"
      ],
      "metadata": {
        "id": "vgHXJRmObnXi"
      },
      "execution_count": null,
      "outputs": []
    },
    {
      "cell_type": "code",
      "execution_count": null,
      "metadata": {
        "id": "rtDQXhagbhHP"
      },
      "outputs": [],
      "source": [
        "#take batch norm implementation from the example given and edit it to include the change proposed\n",
        "#remove gamma, add alpha\n",
        "\n",
        "def batch_norm(X, beta, moving_mean, moving_var, moving_std, eps, momentum, alpha):\n",
        "    if not torch.is_grad_enabled():\n",
        "        X_hat = (X - moving_mean) / torch.sqrt(moving_var + eps)\n",
        "    else:\n",
        "        if len(X.shape) == 2:\n",
        "            mean = X.mean(dim=0)\n",
        "            var = ((X - mean) ** 2).mean(dim=0)\n",
        "        else:\n",
        "            mean = X.mean(dim=(0, 2, 3), keepdim=True)\n",
        "            var = ((X - mean) ** 2).mean(dim=(0, 2, 3), keepdim=True)\n",
        "\n",
        "        std = torch.sqrt(var + eps)\n",
        "        new_std = alpha * moving_std + (1 - alpha) * std #here is the weighted average std\n",
        "        X_hat = (X - mean) / new_std\n",
        "\n",
        "        moving_mean = (1 - momentum) * moving_mean + momentum * mean\n",
        "        moving_var = (1 - momentum) * moving_var + momentum * var\n",
        "        moving_std = (1 - momentum) * moving_std + momentum * std\n",
        "\n",
        "    Y = X_hat + beta\n",
        "    return Y, moving_mean.data, moving_var.data, moving_std.data\n",
        "\n",
        "class CustomBatchNorm(nn.Module):\n",
        "    def __init__(self, num_features, num_dims, alpha=0.5):\n",
        "        super().__init__()\n",
        "        if num_dims == 2:\n",
        "            shape = (1, num_features)\n",
        "        else:\n",
        "            shape = (1, num_features, 1, 1)\n",
        "\n",
        "        self.beta = nn.Parameter(torch.zeros(shape))\n",
        "        self.moving_mean = torch.zeros(shape)\n",
        "        self.moving_var = torch.ones(shape)\n",
        "        self.moving_std = torch.sqrt(self.moving_var)\n",
        "        self.alpha = alpha\n",
        "\n",
        "    def forward(self, X):\n",
        "        if self.moving_mean.device != X.device:\n",
        "            self.moving_mean = self.moving_mean.to(X.device)\n",
        "            self.moving_var = self.moving_var.to(X.device)\n",
        "            self.moving_std = self.moving_std.to(X.device)\n",
        "\n",
        "        Y, self.moving_mean, self.moving_var, self.moving_std = batch_norm(\n",
        "            X, self.beta, self.moving_mean, self.moving_var,\n",
        "            self.moving_std, eps=1e-5, momentum=0.1, alpha=self.alpha)\n",
        "        return Y\n"
      ]
    },
    {
      "cell_type": "code",
      "source": [
        "#Create the new model with new batch norm, alpha at 0.5 as a standard\n",
        "\n",
        "class NewModel(nn.Module):\n",
        "    def __init__(self, alpha):\n",
        "        super(NewModel, self).__init__()\n",
        "        self.model = nn.Sequential(\n",
        "            nn.Conv2d(3, 64, kernel_size=3, padding=1), CustomBatchNorm(64,4, alpha),nn.ReLU(),\n",
        "            nn.Conv2d(64, 64, kernel_size=3, padding=1), CustomBatchNorm(64,4, alpha), nn.ReLU(),\n",
        "            nn.MaxPool2d(2),\n",
        "            nn.Conv2d(64, 128, kernel_size=3, padding=1), CustomBatchNorm(128,4, alpha), nn.ReLU(),\n",
        "            nn.Conv2d(128, 128, kernel_size=3, padding=1), CustomBatchNorm(128,4, alpha), nn.ReLU(),\n",
        "            nn.MaxPool2d(2),\n",
        "            nn.Conv2d(128, 256, kernel_size=3, padding=1), CustomBatchNorm(256,4, alpha), nn.ReLU(),\n",
        "            nn.Conv2d(256, 256, kernel_size=3, padding=1), CustomBatchNorm(256,4, alpha), nn.ReLU(),\n",
        "            nn.MaxPool2d(2),nn.Flatten(), nn.Linear(4096, 512), nn.Dropout(0.5),\n",
        "            nn.Linear(512, 256),nn.Dropout(0.5), nn.Linear(256, 10)\n",
        "        )\n",
        "\n",
        "    def forward(self, x):\n",
        "        return self.model(x)\n",
        "\n",
        "\n",
        "\n"
      ],
      "metadata": {
        "id": "eg4ReJEmbsWv"
      },
      "execution_count": null,
      "outputs": []
    },
    {
      "cell_type": "code",
      "source": [
        "device = torch.device(\"cuda\" if torch.cuda.is_available() else \"cpu\")\n",
        "model = NewModel(alpha = 0.5).to(device)\n",
        "\n",
        "optimizer = torch.optim.Adam(model.parameters(), lr=0.001)\n",
        "\n",
        "target_accuracy = 87\n",
        "epochs = 0\n",
        "accuracy = 0\n",
        "epoch_limit = 50\n",
        "new_loss_list = []\n",
        "new_test_accuracy = []\n",
        "\n",
        "torch.cuda.empty_cache()\n",
        "while accuracy < target_accuracy and epochs <= epoch_limit:\n",
        "    epochs += 1\n",
        "    train(model, device, train_loader, optimizer)\n",
        "    accuracy, test_loss = test(model, device, test_loader)\n",
        "    new_test_accuracy.append(accuracy)\n",
        "    new_loss_list.append(test_loss)\n",
        "    print(f'Epoch: {epochs}, Test Accuracy: {accuracy:.2f}%')\n",
        "\n",
        "print(f'Converged in {epochs} epochs')\n"
      ],
      "metadata": {
        "colab": {
          "base_uri": "https://localhost:8080/"
        },
        "id": "-m6Ld0CHdFTT",
        "outputId": "21f65d76-c77f-4805-d4be-388820b3d046"
      },
      "execution_count": null,
      "outputs": [
        {
          "output_type": "stream",
          "name": "stdout",
          "text": [
            "Epoch: 1, Test Accuracy: 65.93%\n",
            "Epoch: 2, Test Accuracy: 76.44%\n",
            "Epoch: 3, Test Accuracy: 80.77%\n",
            "Epoch: 4, Test Accuracy: 80.49%\n",
            "Epoch: 5, Test Accuracy: 82.96%\n",
            "Epoch: 6, Test Accuracy: 82.09%\n",
            "Epoch: 7, Test Accuracy: 83.74%\n",
            "Epoch: 8, Test Accuracy: 82.82%\n",
            "Epoch: 9, Test Accuracy: 84.43%\n",
            "Epoch: 10, Test Accuracy: 84.01%\n",
            "Epoch: 11, Test Accuracy: 83.79%\n",
            "Epoch: 12, Test Accuracy: 84.73%\n",
            "Epoch: 13, Test Accuracy: 84.56%\n",
            "Epoch: 14, Test Accuracy: 84.64%\n",
            "Epoch: 15, Test Accuracy: 83.98%\n",
            "Epoch: 16, Test Accuracy: 84.49%\n",
            "Epoch: 17, Test Accuracy: 85.52%\n",
            "Epoch: 18, Test Accuracy: 85.03%\n",
            "Epoch: 19, Test Accuracy: 84.94%\n",
            "Epoch: 20, Test Accuracy: 85.37%\n",
            "Epoch: 21, Test Accuracy: 83.72%\n",
            "Epoch: 22, Test Accuracy: 84.63%\n",
            "Epoch: 23, Test Accuracy: 84.88%\n",
            "Epoch: 24, Test Accuracy: 85.52%\n",
            "Epoch: 25, Test Accuracy: 84.59%\n",
            "Epoch: 26, Test Accuracy: 84.79%\n",
            "Epoch: 27, Test Accuracy: 85.19%\n",
            "Epoch: 28, Test Accuracy: 84.99%\n",
            "Epoch: 29, Test Accuracy: 85.15%\n",
            "Epoch: 30, Test Accuracy: 85.27%\n",
            "Epoch: 31, Test Accuracy: 85.67%\n",
            "Epoch: 32, Test Accuracy: 85.17%\n",
            "Epoch: 33, Test Accuracy: 85.07%\n",
            "Epoch: 34, Test Accuracy: 85.21%\n",
            "Epoch: 35, Test Accuracy: 85.31%\n",
            "Epoch: 36, Test Accuracy: 84.63%\n",
            "Epoch: 37, Test Accuracy: 84.51%\n",
            "Epoch: 38, Test Accuracy: 85.33%\n",
            "Epoch: 39, Test Accuracy: 84.00%\n",
            "Epoch: 40, Test Accuracy: 83.99%\n",
            "Epoch: 41, Test Accuracy: 84.95%\n",
            "Epoch: 42, Test Accuracy: 84.67%\n",
            "Epoch: 43, Test Accuracy: 85.50%\n",
            "Epoch: 44, Test Accuracy: 84.93%\n",
            "Epoch: 45, Test Accuracy: 85.14%\n",
            "Epoch: 46, Test Accuracy: 84.31%\n",
            "Epoch: 47, Test Accuracy: 85.99%\n",
            "Epoch: 48, Test Accuracy: 84.87%\n",
            "Epoch: 49, Test Accuracy: 85.05%\n",
            "Epoch: 50, Test Accuracy: 85.25%\n",
            "Epoch: 51, Test Accuracy: 84.95%\n",
            "Converged in 51 epochs\n"
          ]
        }
      ]
    },
    {
      "cell_type": "code",
      "source": [
        "#testing alpha = 0.1\n",
        "device = torch.device(\"cuda\" if torch.cuda.is_available() else \"cpu\")\n",
        "model = NewModel(alpha = 0.1).to(device)\n",
        "\n",
        "optimizer = torch.optim.Adam(model.parameters(), lr=0.001)\n",
        "\n",
        "target_accuracy = 87\n",
        "epochs = 0\n",
        "accuracy = 0\n",
        "epoch_limit = 50\n",
        "loss_list_0_1 = []\n",
        "test_accuracy_0_1 = []\n",
        "\n",
        "torch.cuda.empty_cache()\n",
        "while accuracy < target_accuracy and epochs <= epoch_limit:\n",
        "    epochs += 1\n",
        "    train(model, device, train_loader, optimizer)\n",
        "    accuracy, test_loss = test(model, device, test_loader)\n",
        "    test_accuracy_0_1.append(accuracy)\n",
        "    loss_list_0_1.append(test_loss)\n",
        "    print(f'Epoch: {epochs}, Test Accuracy: {accuracy:.2f}%')\n",
        "\n",
        "print(f'Converged in {epochs} epochs')\n"
      ],
      "metadata": {
        "colab": {
          "base_uri": "https://localhost:8080/"
        },
        "id": "3I_eDnKVmidx",
        "outputId": "a443ef0c-53b2-4bbb-f926-24c17963399a"
      },
      "execution_count": null,
      "outputs": [
        {
          "output_type": "stream",
          "name": "stdout",
          "text": [
            "Epoch: 1, Test Accuracy: 58.79%\n",
            "Epoch: 2, Test Accuracy: 70.35%\n",
            "Epoch: 3, Test Accuracy: 77.79%\n",
            "Epoch: 4, Test Accuracy: 77.20%\n",
            "Epoch: 5, Test Accuracy: 81.99%\n",
            "Epoch: 6, Test Accuracy: 82.93%\n",
            "Epoch: 7, Test Accuracy: 77.96%\n",
            "Epoch: 8, Test Accuracy: 84.87%\n",
            "Epoch: 9, Test Accuracy: 82.77%\n",
            "Epoch: 10, Test Accuracy: 83.75%\n",
            "Epoch: 11, Test Accuracy: 84.57%\n",
            "Epoch: 12, Test Accuracy: 83.12%\n",
            "Epoch: 13, Test Accuracy: 84.66%\n",
            "Epoch: 14, Test Accuracy: 84.05%\n",
            "Epoch: 15, Test Accuracy: 83.01%\n",
            "Epoch: 16, Test Accuracy: 84.67%\n",
            "Epoch: 17, Test Accuracy: 84.64%\n",
            "Epoch: 18, Test Accuracy: 84.11%\n",
            "Epoch: 19, Test Accuracy: 83.07%\n",
            "Epoch: 20, Test Accuracy: 78.53%\n",
            "Epoch: 21, Test Accuracy: 84.91%\n",
            "Epoch: 22, Test Accuracy: 84.03%\n",
            "Epoch: 23, Test Accuracy: 84.10%\n",
            "Epoch: 24, Test Accuracy: 84.29%\n",
            "Epoch: 25, Test Accuracy: 84.54%\n",
            "Epoch: 26, Test Accuracy: 84.26%\n",
            "Epoch: 27, Test Accuracy: 83.63%\n",
            "Epoch: 28, Test Accuracy: 83.53%\n",
            "Epoch: 29, Test Accuracy: 83.45%\n",
            "Epoch: 30, Test Accuracy: 84.94%\n",
            "Epoch: 31, Test Accuracy: 84.35%\n",
            "Epoch: 32, Test Accuracy: 84.71%\n",
            "Epoch: 33, Test Accuracy: 84.90%\n",
            "Epoch: 34, Test Accuracy: 85.12%\n",
            "Epoch: 35, Test Accuracy: 85.44%\n",
            "Epoch: 36, Test Accuracy: 85.15%\n",
            "Epoch: 37, Test Accuracy: 84.54%\n",
            "Epoch: 38, Test Accuracy: 84.15%\n",
            "Epoch: 39, Test Accuracy: 84.23%\n",
            "Epoch: 40, Test Accuracy: 84.35%\n",
            "Epoch: 41, Test Accuracy: 85.27%\n",
            "Epoch: 42, Test Accuracy: 84.27%\n",
            "Epoch: 43, Test Accuracy: 84.65%\n",
            "Epoch: 44, Test Accuracy: 84.94%\n",
            "Epoch: 45, Test Accuracy: 85.04%\n",
            "Epoch: 46, Test Accuracy: 84.20%\n",
            "Epoch: 47, Test Accuracy: 84.46%\n",
            "Epoch: 48, Test Accuracy: 84.20%\n",
            "Epoch: 49, Test Accuracy: 83.01%\n",
            "Epoch: 50, Test Accuracy: 84.10%\n",
            "Epoch: 51, Test Accuracy: 84.57%\n",
            "Converged in 51 epochs\n"
          ]
        }
      ]
    },
    {
      "cell_type": "code",
      "source": [
        "#testing alpha = 0.25\n",
        "device = torch.device(\"cuda\" if torch.cuda.is_available() else \"cpu\")\n",
        "model = NewModel(alpha = 0.25).to(device)\n",
        "\n",
        "optimizer = torch.optim.Adam(model.parameters(), lr=0.001)\n",
        "\n",
        "target_accuracy = 87\n",
        "epochs = 0\n",
        "accuracy = 0\n",
        "epoch_limit = 50\n",
        "loss_list_0_1 = []\n",
        "test_accuracy_0_1 = []\n",
        "\n",
        "torch.cuda.empty_cache()\n",
        "while accuracy < target_accuracy and epochs <= epoch_limit:\n",
        "    epochs += 1\n",
        "    train(model, device, train_loader, optimizer)\n",
        "    accuracy, test_loss = test(model, device, test_loader)\n",
        "    test_accuracy_0_1.append(accuracy)\n",
        "    loss_list_0_1.append(test_loss)\n",
        "    print(f'Epoch: {epochs}, Test Accuracy: {accuracy:.2f}%')\n",
        "\n",
        "print(f'Converged in {epochs} epochs')\n"
      ],
      "metadata": {
        "colab": {
          "base_uri": "https://localhost:8080/"
        },
        "id": "DMQOVyAntwcd",
        "outputId": "7b9a3671-a554-49ab-feac-2570a338a765"
      },
      "execution_count": null,
      "outputs": [
        {
          "output_type": "stream",
          "name": "stdout",
          "text": [
            "Epoch: 1, Test Accuracy: 64.62%\n",
            "Epoch: 2, Test Accuracy: 73.16%\n",
            "Epoch: 3, Test Accuracy: 78.26%\n",
            "Epoch: 4, Test Accuracy: 79.86%\n",
            "Epoch: 5, Test Accuracy: 82.23%\n",
            "Epoch: 6, Test Accuracy: 82.13%\n",
            "Epoch: 7, Test Accuracy: 83.25%\n",
            "Epoch: 8, Test Accuracy: 84.05%\n",
            "Epoch: 9, Test Accuracy: 83.95%\n",
            "Epoch: 10, Test Accuracy: 83.53%\n",
            "Epoch: 11, Test Accuracy: 84.61%\n",
            "Epoch: 12, Test Accuracy: 83.22%\n",
            "Epoch: 13, Test Accuracy: 84.29%\n",
            "Epoch: 14, Test Accuracy: 83.86%\n",
            "Epoch: 15, Test Accuracy: 81.81%\n",
            "Epoch: 16, Test Accuracy: 83.35%\n",
            "Epoch: 17, Test Accuracy: 84.33%\n",
            "Epoch: 18, Test Accuracy: 84.43%\n",
            "Epoch: 19, Test Accuracy: 84.50%\n",
            "Epoch: 20, Test Accuracy: 84.71%\n",
            "Epoch: 21, Test Accuracy: 83.07%\n",
            "Epoch: 22, Test Accuracy: 84.69%\n",
            "Epoch: 23, Test Accuracy: 85.06%\n",
            "Epoch: 24, Test Accuracy: 85.54%\n",
            "Epoch: 25, Test Accuracy: 84.61%\n",
            "Epoch: 26, Test Accuracy: 84.54%\n",
            "Epoch: 27, Test Accuracy: 83.78%\n",
            "Epoch: 28, Test Accuracy: 84.37%\n",
            "Epoch: 29, Test Accuracy: 84.87%\n",
            "Epoch: 30, Test Accuracy: 84.47%\n",
            "Epoch: 31, Test Accuracy: 84.16%\n",
            "Epoch: 32, Test Accuracy: 84.22%\n",
            "Epoch: 33, Test Accuracy: 84.44%\n",
            "Epoch: 34, Test Accuracy: 84.36%\n",
            "Epoch: 35, Test Accuracy: 84.98%\n",
            "Epoch: 36, Test Accuracy: 84.70%\n",
            "Epoch: 37, Test Accuracy: 84.79%\n",
            "Epoch: 38, Test Accuracy: 85.19%\n",
            "Epoch: 39, Test Accuracy: 83.73%\n",
            "Epoch: 40, Test Accuracy: 84.71%\n",
            "Epoch: 41, Test Accuracy: 84.63%\n",
            "Epoch: 42, Test Accuracy: 84.58%\n",
            "Epoch: 43, Test Accuracy: 84.23%\n",
            "Epoch: 44, Test Accuracy: 84.80%\n",
            "Epoch: 45, Test Accuracy: 84.92%\n",
            "Epoch: 46, Test Accuracy: 84.93%\n",
            "Epoch: 47, Test Accuracy: 85.09%\n",
            "Epoch: 48, Test Accuracy: 84.58%\n",
            "Epoch: 49, Test Accuracy: 85.07%\n",
            "Epoch: 50, Test Accuracy: 83.93%\n",
            "Epoch: 51, Test Accuracy: 84.54%\n",
            "Converged in 51 epochs\n"
          ]
        }
      ]
    },
    {
      "cell_type": "code",
      "source": [
        "#testing alpha = 0.75\n",
        "device = torch.device(\"cuda\" if torch.cuda.is_available() else \"cpu\")\n",
        "model = NewModel(alpha = 0.75).to(device)\n",
        "\n",
        "optimizer = torch.optim.Adam(model.parameters(), lr=0.001)\n",
        "\n",
        "target_accuracy = 87\n",
        "epochs = 0\n",
        "accuracy = 0\n",
        "epoch_limit = 50\n",
        "loss_list_0_75 = []\n",
        "test_accuracy_0_75 = []\n",
        "\n",
        "torch.cuda.empty_cache()\n",
        "while accuracy < target_accuracy and epochs <= epoch_limit:\n",
        "    epochs += 1\n",
        "    train(model, device, train_loader, optimizer)\n",
        "    accuracy, test_loss = test(model, device, test_loader)\n",
        "    test_accuracy_0_75.append(accuracy)\n",
        "    loss_list_0_75.append(test_loss)\n",
        "    print(f'Epoch: {epochs}, Test Accuracy: {accuracy:.2f}%')\n",
        "\n",
        "print(f'Converged in {epochs} epochs')\n"
      ],
      "metadata": {
        "colab": {
          "base_uri": "https://localhost:8080/"
        },
        "id": "eEAPkShYtyZA",
        "outputId": "24328c3d-7fae-4c71-c4c6-0bcdb74b401e"
      },
      "execution_count": null,
      "outputs": [
        {
          "output_type": "stream",
          "name": "stdout",
          "text": [
            "Epoch: 1, Test Accuracy: 60.38%\n",
            "Epoch: 2, Test Accuracy: 64.41%\n",
            "Epoch: 3, Test Accuracy: 69.00%\n",
            "Epoch: 4, Test Accuracy: 64.22%\n",
            "Epoch: 5, Test Accuracy: 70.37%\n",
            "Epoch: 6, Test Accuracy: 64.98%\n",
            "Epoch: 7, Test Accuracy: 63.59%\n",
            "Epoch: 8, Test Accuracy: 65.80%\n",
            "Epoch: 9, Test Accuracy: 61.74%\n",
            "Epoch: 10, Test Accuracy: 26.17%\n",
            "Epoch: 11, Test Accuracy: 46.47%\n",
            "Epoch: 12, Test Accuracy: 56.18%\n",
            "Epoch: 13, Test Accuracy: 48.15%\n",
            "Epoch: 14, Test Accuracy: 67.55%\n",
            "Epoch: 15, Test Accuracy: 69.44%\n",
            "Epoch: 16, Test Accuracy: 70.91%\n",
            "Epoch: 17, Test Accuracy: 71.92%\n",
            "Epoch: 18, Test Accuracy: 74.74%\n",
            "Epoch: 19, Test Accuracy: 65.35%\n",
            "Epoch: 20, Test Accuracy: 75.86%\n",
            "Epoch: 21, Test Accuracy: 75.84%\n",
            "Epoch: 22, Test Accuracy: 75.18%\n",
            "Epoch: 23, Test Accuracy: 73.99%\n",
            "Epoch: 24, Test Accuracy: 75.97%\n",
            "Epoch: 25, Test Accuracy: 76.09%\n",
            "Epoch: 26, Test Accuracy: 76.49%\n",
            "Epoch: 27, Test Accuracy: 76.75%\n",
            "Epoch: 28, Test Accuracy: 77.42%\n",
            "Epoch: 29, Test Accuracy: 75.66%\n",
            "Epoch: 30, Test Accuracy: 76.57%\n",
            "Epoch: 31, Test Accuracy: 75.97%\n",
            "Epoch: 32, Test Accuracy: 76.47%\n",
            "Epoch: 33, Test Accuracy: 76.30%\n",
            "Epoch: 34, Test Accuracy: 75.60%\n",
            "Epoch: 35, Test Accuracy: 75.92%\n",
            "Epoch: 36, Test Accuracy: 76.74%\n",
            "Epoch: 37, Test Accuracy: 76.26%\n",
            "Epoch: 38, Test Accuracy: 75.91%\n",
            "Epoch: 39, Test Accuracy: 75.66%\n",
            "Epoch: 40, Test Accuracy: 77.29%\n",
            "Epoch: 41, Test Accuracy: 75.29%\n",
            "Epoch: 42, Test Accuracy: 77.38%\n",
            "Epoch: 43, Test Accuracy: 77.20%\n",
            "Epoch: 44, Test Accuracy: 76.53%\n",
            "Epoch: 45, Test Accuracy: 75.52%\n",
            "Epoch: 46, Test Accuracy: 77.33%\n",
            "Epoch: 47, Test Accuracy: 75.69%\n",
            "Epoch: 48, Test Accuracy: 75.71%\n",
            "Epoch: 49, Test Accuracy: 76.79%\n",
            "Epoch: 50, Test Accuracy: 76.19%\n",
            "Epoch: 51, Test Accuracy: 75.88%\n",
            "Converged in 51 epochs\n"
          ]
        }
      ]
    },
    {
      "cell_type": "code",
      "source": [
        "#testing alpha = 0.9\n",
        "device = torch.device(\"cuda\" if torch.cuda.is_available() else \"cpu\")\n",
        "model = NewModel(alpha = 0.9).to(device)\n",
        "\n",
        "optimizer = torch.optim.Adam(model.parameters(), lr=0.001)\n",
        "\n",
        "target_accuracy = 87\n",
        "epochs = 0\n",
        "accuracy = 0\n",
        "epoch_limit = 50\n",
        "loss_list_0_75 = []\n",
        "test_accuracy_0_75 = []\n",
        "\n",
        "torch.cuda.empty_cache()\n",
        "while accuracy < target_accuracy and epochs <= epoch_limit:\n",
        "    epochs += 1\n",
        "    train(model, device, train_loader, optimizer)\n",
        "    accuracy, test_loss = test(model, device, test_loader)\n",
        "    test_accuracy_0_75.append(accuracy)\n",
        "    loss_list_0_75.append(test_loss)\n",
        "    print(f'Epoch: {epochs}, Test Accuracy: {accuracy:.2f}%')\n",
        "\n",
        "print(f'Converged in {epochs} epochs')\n"
      ],
      "metadata": {
        "colab": {
          "base_uri": "https://localhost:8080/"
        },
        "id": "--l8rw2O4CSh",
        "outputId": "d5f6633b-d6ff-48a6-a4b5-c0e8a27a6d18"
      },
      "execution_count": null,
      "outputs": [
        {
          "output_type": "stream",
          "name": "stdout",
          "text": [
            "Epoch: 1, Test Accuracy: 60.33%\n",
            "Epoch: 2, Test Accuracy: 55.03%\n",
            "Epoch: 3, Test Accuracy: 60.68%\n",
            "Epoch: 4, Test Accuracy: 14.47%\n",
            "Epoch: 5, Test Accuracy: 18.44%\n",
            "Epoch: 6, Test Accuracy: 19.81%\n",
            "Epoch: 7, Test Accuracy: 20.71%\n",
            "Epoch: 8, Test Accuracy: 20.70%\n",
            "Epoch: 9, Test Accuracy: 21.27%\n",
            "Epoch: 10, Test Accuracy: 21.87%\n",
            "Epoch: 11, Test Accuracy: 22.60%\n",
            "Epoch: 12, Test Accuracy: 25.44%\n",
            "Epoch: 13, Test Accuracy: 27.34%\n",
            "Epoch: 14, Test Accuracy: 11.23%\n",
            "Epoch: 15, Test Accuracy: 17.12%\n",
            "Epoch: 16, Test Accuracy: 10.66%\n",
            "Epoch: 17, Test Accuracy: 18.08%\n",
            "Epoch: 18, Test Accuracy: 15.92%\n",
            "Epoch: 19, Test Accuracy: 22.98%\n",
            "Epoch: 20, Test Accuracy: 24.08%\n",
            "Epoch: 21, Test Accuracy: 26.25%\n",
            "Epoch: 22, Test Accuracy: 14.96%\n",
            "Epoch: 23, Test Accuracy: 20.70%\n",
            "Epoch: 24, Test Accuracy: 23.01%\n",
            "Epoch: 25, Test Accuracy: 23.87%\n",
            "Epoch: 26, Test Accuracy: 25.12%\n",
            "Epoch: 27, Test Accuracy: 27.34%\n",
            "Epoch: 28, Test Accuracy: 12.69%\n",
            "Epoch: 29, Test Accuracy: 17.33%\n",
            "Epoch: 30, Test Accuracy: 21.10%\n",
            "Epoch: 31, Test Accuracy: 21.46%\n",
            "Epoch: 32, Test Accuracy: 20.52%\n",
            "Epoch: 33, Test Accuracy: 21.69%\n",
            "Epoch: 34, Test Accuracy: 18.52%\n",
            "Epoch: 35, Test Accuracy: 23.33%\n",
            "Epoch: 36, Test Accuracy: 14.64%\n",
            "Epoch: 37, Test Accuracy: 16.42%\n",
            "Epoch: 38, Test Accuracy: 19.86%\n",
            "Epoch: 39, Test Accuracy: 23.36%\n",
            "Epoch: 40, Test Accuracy: 18.41%\n",
            "Epoch: 41, Test Accuracy: 9.70%\n",
            "Epoch: 42, Test Accuracy: 11.68%\n",
            "Epoch: 43, Test Accuracy: 17.61%\n",
            "Epoch: 44, Test Accuracy: 17.06%\n",
            "Epoch: 45, Test Accuracy: 20.96%\n",
            "Epoch: 46, Test Accuracy: 20.18%\n",
            "Epoch: 47, Test Accuracy: 20.38%\n",
            "Epoch: 48, Test Accuracy: 20.77%\n",
            "Epoch: 49, Test Accuracy: 21.86%\n",
            "Epoch: 50, Test Accuracy: 20.07%\n",
            "Epoch: 51, Test Accuracy: 17.82%\n",
            "Converged in 51 epochs\n"
          ]
        }
      ]
    },
    {
      "cell_type": "code",
      "source": [
        "test_accuracy_0_9 = [60.33, 55.03, 60.68, 14.47, 18.44, 19.81, 20.71, 20.7, 21.27, 21.87, 22.6, 25.44, 27.34, 11.23, 17.12, 10.66, 18.08, 15.92, 22.98, 24.08, 26.25, 14.96, 20.7, 23.01, 23.87, 25.12, 27.34, 12.69, 17.33, 21.1, 21.46, 20.52, 21.69, 18.52, 23.33, 14.64, 16.42, 19.86, 23.36, 18.41, 9.7, 11.68, 17.61, 17.06, 20.96, 20.18, 20.38, 20.77, 21.86, 20.07, 17.82]\n"
      ],
      "metadata": {
        "id": "4NY2kOEhHylJ"
      },
      "execution_count": null,
      "outputs": []
    },
    {
      "cell_type": "code",
      "source": [
        "test_accuracy_0_75 = [60.38, 64.41, 69.0, 64.22, 70.37, 64.98, 63.59, 65.8, 61.74, 26.17, 46.47, 56.18, 48.15, 67.55, 69.44, 70.91, 71.92, 74.74, 65.35, 75.86, 75.84, 75.18, 73.99, 75.97, 76.09, 76.49, 76.75, 77.42, 75.66, 76.57, 75.97, 76.47, 76.3, 75.6, 75.92, 76.74, 76.26, 75.91, 75.66, 77.29, 75.29, 77.38, 77.2, 76.53, 75.52, 77.33, 75.69, 75.71, 76.79, 76.19, 75.88]"
      ],
      "metadata": {
        "id": "iwf0bKjD4FHs"
      },
      "execution_count": null,
      "outputs": []
    },
    {
      "cell_type": "code",
      "source": [
        "test_accuracy_0_25 = [64.62, 73.16, 78.26, 79.86, 82.23, 82.13, 83.25, 84.05, 83.95, 83.53, 84.61, 83.22, 84.29, 83.86, 81.81, 83.35, 84.33, 84.43, 84.5, 84.71, 83.07, 84.69, 85.06, 85.54, 84.61, 84.54, 83.78, 84.37, 84.87, 84.47, 84.16, 84.22, 84.44, 84.36, 84.98, 84.7, 84.79, 85.19, 83.73, 84.71, 84.63, 84.58, 84.23, 84.8, 84.92, 84.93, 85.09, 84.58, 85.07, 83.93, 84.54]\n"
      ],
      "metadata": {
        "id": "8HB9LhHeFCi6"
      },
      "execution_count": null,
      "outputs": []
    },
    {
      "cell_type": "code",
      "source": [
        "test_accuracy_0_1 = [58.79, 70.35, 77.79, 77.2, 81.99, 82.93, 77.96, 84.87, 82.77, 83.75, 84.57, 83.12, 84.66, 84.05, 83.01, 84.67, 84.64, 84.11, 83.07, 78.53, 84.91, 84.03, 84.1, 84.29, 84.54, 84.26, 83.63, 83.53, 83.45, 84.94, 84.35, 84.71, 84.9, 85.12, 85.44, 85.15, 84.54, 84.15, 84.23, 84.35, 85.27, 84.27, 84.65, 84.94, 85.04, 84.2, 84.46, 84.2, 83.01, 84.1, 84.57]\n"
      ],
      "metadata": {
        "id": "aO5bXROFHK-y"
      },
      "execution_count": null,
      "outputs": []
    },
    {
      "cell_type": "code",
      "source": [
        "sns.lineplot(x = range(len(test_accuracy_0_1)), y = test_accuracy_0_1, label = \"Alpha = 0.1\")\n",
        "sns.lineplot(x = range(len(test_accuracy_0_25)), y = test_accuracy_0_25, label = \"Alpha = 0.25\")\n",
        "sns.lineplot(x = range(len(new_test_accuracy)), y = new_test_accuracy, label = \"Alpha = 0.5\")\n",
        "sns.lineplot(x = range(len(test_accuracy_0_75)), y = test_accuracy_0_75, label = \"Alpha = 0.75\")\n",
        "sns.lineplot(x = range(len(test_accuracy_0_9)), y = test_accuracy_0_9, label = \"Alpha = 0.9\")\n",
        "x = np.linspace(0, 51, 51)\n",
        "y = np.full(51, 85)\n",
        "plt.plot(x, y, linestyle = 'dotted')\n",
        "plt.title('Accuracy over Epochs by Weight Hyperparameter')\n",
        "plt.xlabel('Epoch')\n",
        "plt.ylabel('Accuracy')\n",
        "plt.legend()\n",
        "plt.savefig('alphagraph.png',dpi = 800)"
      ],
      "metadata": {
        "colab": {
          "base_uri": "https://localhost:8080/",
          "height": 472
        },
        "id": "lhc3M3b3G6oF",
        "outputId": "2dfd8424-ccbf-4793-fbd2-3ed868904be0"
      },
      "execution_count": null,
      "outputs": [
        {
          "output_type": "display_data",
          "data": {
            "text/plain": [
              "<Figure size 640x480 with 1 Axes>"
            ],
            "image/png": "[encoded data removed]"
          },
          "metadata": {}
        }
      ]
    },
    {
      "cell_type": "code",
      "source": [],
      "metadata": {
        "id": "_1PF2hO1IAh9"
      },
      "execution_count": null,
      "outputs": []
    }
  ]
}