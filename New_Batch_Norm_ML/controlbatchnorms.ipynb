{
  "nbformat": 4,
  "nbformat_minor": 0,
  "metadata": {
    "colab": {
      "provenance": [],
      "machine_shape": "hm",
      "gpuType": "T4"
    },
    "kernelspec": {
      "name": "python3",
      "display_name": "Python 3"
    },
    "language_info": {
      "name": "python"
    },
    "accelerator": "GPU"
  },
  "cells": [
    {
      "cell_type": "code",
      "execution_count": null,
      "metadata": {
        "id": "xGVr9vouT0Da"
      },
      "outputs": [],
      "source": [
        "import torch, math, copy\n",
        "import numpy as np\n",
        "import matplotlib.pyplot as plt\n",
        "import seaborn as sns\n",
        "import torchvision\n",
        "from torchvision import datasets, transforms\n",
        "import torch.nn as nn\n",
        "import torch.nn.init as init\n",
        "import torch.nn.functional as F\n",
        "from scipy.stats import kde\n",
        "import matplotlib.pyplot as plt"
      ]
    },
    {
      "cell_type": "code",
      "source": [
        "from torch.utils.data import DataLoader\n",
        "transform = transforms.Compose([transforms.ToTensor(),transforms.Normalize((0.5, 0.5, 0.5), (0.5, 0.5, 0.5))])\n",
        "\n",
        "train_dataset = datasets.CIFAR10(root='./data', train=True, download=True, transform=transform)\n",
        "test_dataset = datasets.CIFAR10(root='./data', train=False, download=True, transform=transform)\n",
        "\n",
        "train_loader = DataLoader(train_dataset, batch_size=64, shuffle=True)\n",
        "test_loader = DataLoader(test_dataset, batch_size=1000, shuffle=False)\n"
      ],
      "metadata": {
        "colab": {
          "base_uri": "https://localhost:8080/"
        },
        "id": "0tReud1m1kOy",
        "outputId": "5569cdd3-d81a-4b9e-9a62-1ae2c13690fe"
      },
      "execution_count": null,
      "outputs": [
        {
          "output_type": "stream",
          "name": "stdout",
          "text": [
            "Downloading https://www.cs.toronto.edu/~kriz/cifar-10-python.tar.gz to ./data/cifar-10-python.tar.gz\n"
          ]
        },
        {
          "output_type": "stream",
          "name": "stderr",
          "text": [
            "100%|██████████| 170498071/170498071 [00:02<00:00, 76710828.32it/s]\n"
          ]
        },
        {
          "output_type": "stream",
          "name": "stdout",
          "text": [
            "Extracting ./data/cifar-10-python.tar.gz to ./data\n",
            "Files already downloaded and verified\n"
          ]
        }
      ]
    },
    {
      "cell_type": "code",
      "source": [
        "#Create a control model with 3 layers\n",
        "\n",
        "class StandardModel(nn.Module):\n",
        "    def __init__(self):\n",
        "        super(StandardModel, self).__init__()\n",
        "        self.model = nn.Sequential(\n",
        "            nn.Conv2d(3, 64, kernel_size=3, padding=1), nn.BatchNorm2d(64), nn.ReLU(),\n",
        "            nn.Conv2d(64, 64, kernel_size=3, padding=1), nn.BatchNorm2d(64), nn.ReLU(),\n",
        "            nn.MaxPool2d(2),\n",
        "            nn.Conv2d(64, 128, kernel_size=3, padding=1), nn.BatchNorm2d(128), nn.ReLU(),\n",
        "            nn.Conv2d(128, 128, kernel_size=3, padding=1), nn.BatchNorm2d(128), nn.ReLU(),\n",
        "            nn.MaxPool2d(2),\n",
        "            nn.Conv2d(128, 256, kernel_size=3, padding=1),nn.BatchNorm2d(256), nn.ReLU(),\n",
        "            nn.Conv2d(256, 256, kernel_size=3, padding=1), nn.BatchNorm2d(256), nn.ReLU(),\n",
        "            nn.MaxPool2d(2),\n",
        "            nn.Flatten(), nn.Linear(4096, 512), nn.Dropout(0.5), nn.Linear(512, 256),\n",
        "            nn.Dropout(0.5), nn.Linear(256, 10)\n",
        "        )\n",
        "\n",
        "    def forward(self, x):\n",
        "        return self.model(x)\n",
        "\n",
        "\n",
        "\n"
      ],
      "metadata": {
        "id": "GAZhvQDM17Z0"
      },
      "execution_count": null,
      "outputs": []
    },
    {
      "cell_type": "code",
      "source": [
        "def train(model, device, train_loader, optimizer):\n",
        "    model.train()\n",
        "    for batch_idx, (data, target) in enumerate(train_loader):\n",
        "        data, target = data.to(device), target.to(device)\n",
        "        optimizer.zero_grad()\n",
        "        output = model(data)\n",
        "        loss = F.cross_entropy(output, target)\n",
        "        loss.backward()\n",
        "        optimizer.step()\n",
        "\n",
        "def test(model, device, test_loader):\n",
        "    model.eval()\n",
        "    test_loss = 0\n",
        "    correct = 0\n",
        "    with torch.no_grad():\n",
        "        for data, target in test_loader:\n",
        "            data, target = data.to(device), target.to(device)\n",
        "            output = model(data)\n",
        "            test_loss += F.cross_entropy(output, target, reduction='sum').item()\n",
        "            pred = output.argmax(dim=1, keepdim=True)\n",
        "            correct += pred.eq(target.view_as(pred)).sum().item()\n",
        "\n",
        "    test_loss /= len(test_loader.dataset)\n",
        "    accuracy = 100. * correct / len(test_loader.dataset)\n",
        "    return accuracy, test_loss\n"
      ],
      "metadata": {
        "id": "aJO-ddBPHb3f"
      },
      "execution_count": null,
      "outputs": []
    },
    {
      "cell_type": "code",
      "source": [
        "device = torch.device(\"cuda\" if torch.cuda.is_available() else \"cpu\")\n",
        "\n",
        "model = StandardModel().to(device)\n",
        "\n",
        "optimizer = torch.optim.Adam(model.parameters(), lr=0.001)\n",
        "\n",
        "target_accuracy = 87\n",
        "epochs = 0\n",
        "accuracy = 0\n",
        "epoch_limit = 50\n",
        "standard_loss_list = []\n",
        "standard_test_accuracy = []\n",
        "\n",
        "torch.cuda.empty_cache()\n",
        "while accuracy < target_accuracy and epochs <= epoch_limit:\n",
        "    epochs += 1\n",
        "    train(model, device, train_loader, optimizer)\n",
        "    accuracy, test_loss = test(model, device, test_loader)\n",
        "    standard_test_accuracy.append(accuracy)\n",
        "    standard_loss_list.append(test_loss)\n",
        "    print(f'Epoch: {epochs}, Test Accuracy: {accuracy:.2f}%')\n",
        "\n",
        "print(f'Converged in {epochs} epochs')\n"
      ],
      "metadata": {
        "colab": {
          "base_uri": "https://localhost:8080/"
        },
        "id": "yUNl6a1oHe84",
        "outputId": "b02254e1-69d1-4e1b-9512-01126190ed34"
      },
      "execution_count": null,
      "outputs": [
        {
          "output_type": "stream",
          "name": "stdout",
          "text": [
            "Epoch: 1, Test Accuracy: 55.82%\n",
            "Epoch: 2, Test Accuracy: 72.57%\n",
            "Epoch: 3, Test Accuracy: 77.19%\n",
            "Epoch: 4, Test Accuracy: 80.50%\n",
            "Epoch: 5, Test Accuracy: 77.49%\n",
            "Epoch: 6, Test Accuracy: 81.43%\n",
            "Epoch: 7, Test Accuracy: 82.66%\n",
            "Epoch: 8, Test Accuracy: 83.82%\n",
            "Epoch: 9, Test Accuracy: 84.90%\n",
            "Epoch: 10, Test Accuracy: 84.25%\n",
            "Epoch: 11, Test Accuracy: 83.49%\n",
            "Epoch: 12, Test Accuracy: 85.35%\n",
            "Epoch: 13, Test Accuracy: 84.68%\n",
            "Epoch: 14, Test Accuracy: 85.21%\n",
            "Epoch: 15, Test Accuracy: 81.13%\n",
            "Epoch: 16, Test Accuracy: 85.05%\n",
            "Epoch: 17, Test Accuracy: 84.48%\n",
            "Epoch: 18, Test Accuracy: 83.58%\n",
            "Epoch: 19, Test Accuracy: 85.02%\n",
            "Epoch: 20, Test Accuracy: 84.74%\n",
            "Epoch: 21, Test Accuracy: 83.81%\n",
            "Epoch: 22, Test Accuracy: 85.01%\n",
            "Epoch: 23, Test Accuracy: 84.26%\n",
            "Epoch: 24, Test Accuracy: 84.80%\n",
            "Epoch: 25, Test Accuracy: 84.79%\n",
            "Epoch: 26, Test Accuracy: 85.23%\n",
            "Epoch: 27, Test Accuracy: 84.88%\n",
            "Epoch: 28, Test Accuracy: 84.61%\n",
            "Epoch: 29, Test Accuracy: 84.14%\n",
            "Epoch: 30, Test Accuracy: 84.82%\n",
            "Epoch: 31, Test Accuracy: 84.64%\n",
            "Epoch: 32, Test Accuracy: 85.12%\n",
            "Epoch: 33, Test Accuracy: 85.66%\n",
            "Epoch: 34, Test Accuracy: 85.22%\n",
            "Epoch: 35, Test Accuracy: 85.48%\n",
            "Epoch: 36, Test Accuracy: 83.92%\n",
            "Epoch: 37, Test Accuracy: 84.12%\n",
            "Epoch: 38, Test Accuracy: 84.51%\n",
            "Epoch: 39, Test Accuracy: 85.22%\n",
            "Epoch: 40, Test Accuracy: 84.74%\n",
            "Epoch: 41, Test Accuracy: 84.86%\n",
            "Epoch: 42, Test Accuracy: 85.35%\n",
            "Epoch: 43, Test Accuracy: 85.01%\n",
            "Epoch: 44, Test Accuracy: 84.61%\n",
            "Epoch: 45, Test Accuracy: 85.24%\n",
            "Epoch: 46, Test Accuracy: 85.29%\n",
            "Epoch: 47, Test Accuracy: 84.21%\n",
            "Epoch: 48, Test Accuracy: 86.07%\n",
            "Epoch: 49, Test Accuracy: 85.43%\n",
            "Epoch: 50, Test Accuracy: 84.26%\n",
            "Epoch: 51, Test Accuracy: 84.01%\n",
            "Converged in 51 epochs\n"
          ]
        }
      ]
    },
    {
      "cell_type": "code",
      "source": [
        "\n",
        "test_accuracy = [55.82, 72.57, 77.19, 80.5, 77.49, 81.43, 82.66, 83.82, 84.9, 84.25, 83.49, 85.35, 84.68, 85.21, 81.13, 85.05, 84.48, 83.58, 85.02, 84.74, 83.81, 85.01, 84.26, 84.8, 84.79, 85.23, 84.88, 84.61, 84.14, 84.82, 84.64, 85.12, 85.66, 85.22, 85.48, 83.92, 84.12, 84.51, 85.22, 84.74, 84.86, 85.35, 85.01, 84.61, 85.24, 85.29, 84.21, 86.07, 85.43, 84.26, 84.01]\n",
        "\n"
      ],
      "metadata": {
        "id": "K2GdtMuuthGY"
      },
      "execution_count": null,
      "outputs": []
    },
    {
      "cell_type": "code",
      "source": [
        "sns.lineplot(test_accuracy)\n",
        "plt.title(\"Accuracy over 50 epochs\")\n",
        "plt.xlabel(\"Epochs\")\n",
        "plt.ylabel(\"Accuracy\")\n",
        "x = np.linspace(0, 51, 51)\n",
        "y = np.full(51, 85)\n",
        "plt.plot(x, y, linestyle = 'dotted')\n",
        "plt.savefig('firstgraph.png',dpi = 800)"
      ],
      "metadata": {
        "colab": {
          "base_uri": "https://localhost:8080/",
          "height": 472
        },
        "id": "mr9ifB7YCFvV",
        "outputId": "2df40f3d-0984-4a9d-bc1b-ed94295d70ab"
      },
      "execution_count": null,
      "outputs": [
        {
          "output_type": "display_data",
          "data": {
            "text/plain": [
              "<Figure size 640x480 with 1 Axes>"
            ],
            "image/png": "[encoded data removed]"
          },
          "metadata": {}
        }
      ]
    },
    {
      "cell_type": "code",
      "source": [
        "#Create a model with no batch norm\n",
        "\n",
        "class BaseModel(nn.Module):\n",
        "    def __init__(self):\n",
        "        super(BaseModel, self).__init__()\n",
        "        self.model = nn.Sequential(\n",
        "            nn.Conv2d(3, 64, kernel_size=3, padding=1), nn.ReLU(),\n",
        "            nn.Conv2d(64, 64, kernel_size=3, padding=1), nn.ReLU(),\n",
        "            nn.MaxPool2d(2),\n",
        "            nn.Conv2d(64, 128, kernel_size=3, padding=1), nn.ReLU(),\n",
        "            nn.Conv2d(128, 128, kernel_size=3, padding=1), nn.ReLU(),\n",
        "            nn.MaxPool2d(2),\n",
        "            nn.Conv2d(128, 256, kernel_size=3, padding=1),nn.ReLU(),\n",
        "            nn.Conv2d(256, 256, kernel_size=3, padding=1), nn.ReLU(),\n",
        "            nn.MaxPool2d(2),\n",
        "            nn.Flatten(), nn.Linear(4096, 512), nn.Dropout(0.5), nn.Linear(512, 256),\n",
        "            nn.Dropout(0.5), nn.Linear(256, 10)\n",
        "        )\n",
        "\n",
        "    def forward(self, x):\n",
        "        return self.model(x)\n",
        "\n",
        "\n",
        "\n"
      ],
      "metadata": {
        "id": "qRfI4M3eCQLQ"
      },
      "execution_count": null,
      "outputs": []
    },
    {
      "cell_type": "code",
      "source": [
        "device = torch.device(\"cuda\" if torch.cuda.is_available() else \"cpu\")\n",
        "\n",
        "model = BaseModel().to(device)\n",
        "\n",
        "optimizer = torch.optim.Adam(model.parameters(), lr=0.001)\n",
        "\n",
        "target_accuracy = 87\n",
        "epochs = 0\n",
        "accuracy = 0\n",
        "epoch_limit = 50\n",
        "standard_loss_list = []\n",
        "standard_test_accuracy = []\n",
        "\n",
        "torch.cuda.empty_cache()\n",
        "while accuracy < target_accuracy and epochs <= epoch_limit:\n",
        "    epochs += 1\n",
        "    train(model, device, train_loader, optimizer)\n",
        "    accuracy, test_loss = test(model, device, test_loader)\n",
        "    standard_test_accuracy.append(accuracy)\n",
        "    standard_loss_list.append(test_loss)\n",
        "    print(f'Epoch: {epochs}, Test Accuracy: {accuracy:.2f}%')\n",
        "\n",
        "print(f'Converged in {epochs} epochs')\n"
      ],
      "metadata": {
        "colab": {
          "base_uri": "https://localhost:8080/"
        },
        "id": "Wde4OeiK5BN8",
        "outputId": "60c88891-1bbd-47b7-c614-2f0f933292bd"
      },
      "execution_count": null,
      "outputs": [
        {
          "output_type": "stream",
          "name": "stdout",
          "text": [
            "Epoch: 1, Test Accuracy: 57.63%\n",
            "Epoch: 2, Test Accuracy: 66.61%\n",
            "Epoch: 3, Test Accuracy: 71.76%\n",
            "Epoch: 4, Test Accuracy: 72.91%\n",
            "Epoch: 5, Test Accuracy: 73.63%\n",
            "Epoch: 6, Test Accuracy: 75.94%\n",
            "Epoch: 7, Test Accuracy: 76.69%\n",
            "Epoch: 8, Test Accuracy: 76.14%\n",
            "Epoch: 9, Test Accuracy: 75.10%\n",
            "Epoch: 10, Test Accuracy: 73.96%\n",
            "Epoch: 11, Test Accuracy: 75.72%\n",
            "Epoch: 12, Test Accuracy: 75.13%\n",
            "Epoch: 13, Test Accuracy: 75.87%\n",
            "Epoch: 14, Test Accuracy: 75.43%\n",
            "Epoch: 15, Test Accuracy: 75.72%\n",
            "Epoch: 16, Test Accuracy: 75.83%\n",
            "Epoch: 17, Test Accuracy: 75.84%\n",
            "Epoch: 18, Test Accuracy: 75.42%\n",
            "Epoch: 19, Test Accuracy: 75.85%\n",
            "Epoch: 20, Test Accuracy: 76.30%\n",
            "Epoch: 21, Test Accuracy: 75.65%\n",
            "Epoch: 22, Test Accuracy: 75.37%\n",
            "Epoch: 23, Test Accuracy: 74.58%\n",
            "Epoch: 24, Test Accuracy: 75.33%\n",
            "Epoch: 25, Test Accuracy: 74.36%\n",
            "Epoch: 26, Test Accuracy: 74.53%\n",
            "Epoch: 27, Test Accuracy: 74.94%\n",
            "Epoch: 28, Test Accuracy: 75.49%\n",
            "Epoch: 29, Test Accuracy: 74.78%\n",
            "Epoch: 30, Test Accuracy: 76.39%\n",
            "Epoch: 31, Test Accuracy: 75.29%\n",
            "Epoch: 32, Test Accuracy: 75.81%\n",
            "Epoch: 33, Test Accuracy: 75.94%\n",
            "Epoch: 34, Test Accuracy: 75.17%\n",
            "Epoch: 35, Test Accuracy: 76.02%\n",
            "Epoch: 36, Test Accuracy: 75.84%\n",
            "Epoch: 37, Test Accuracy: 74.66%\n",
            "Epoch: 38, Test Accuracy: 75.33%\n",
            "Epoch: 39, Test Accuracy: 75.45%\n",
            "Epoch: 40, Test Accuracy: 74.97%\n",
            "Epoch: 41, Test Accuracy: 75.64%\n",
            "Epoch: 42, Test Accuracy: 76.09%\n",
            "Epoch: 43, Test Accuracy: 74.58%\n",
            "Epoch: 44, Test Accuracy: 75.26%\n",
            "Epoch: 45, Test Accuracy: 75.35%\n",
            "Epoch: 46, Test Accuracy: 75.64%\n",
            "Epoch: 47, Test Accuracy: 75.27%\n",
            "Epoch: 48, Test Accuracy: 75.35%\n",
            "Epoch: 49, Test Accuracy: 74.93%\n",
            "Epoch: 50, Test Accuracy: 75.38%\n",
            "Epoch: 51, Test Accuracy: 74.46%\n",
            "Converged in 51 epochs\n"
          ]
        }
      ]
    }
  ]
}